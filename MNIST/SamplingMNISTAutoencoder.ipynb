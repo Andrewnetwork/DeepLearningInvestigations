{
 "cells": [
  {
   "cell_type": "markdown",
   "metadata": {},
   "source": [
    "# Sampling from a MNIST Autoencoder\n",
    "In this notebook we will explore the notion of sampling from autoencoders trained on mnist. "
   ]
  },
  {
   "cell_type": "code",
   "execution_count": 1,
   "metadata": {},
   "outputs": [
    {
     "name": "stderr",
     "output_type": "stream",
     "text": [
      "C:\\Users\\Andre\\Anaconda3\\envs\\GreatEnv\\lib\\site-packages\\h5py\\__init__.py:36: FutureWarning: Conversion of the second argument of issubdtype from `float` to `np.floating` is deprecated. In future, it will be treated as `np.float64 == np.dtype(float).type`.\n",
      "  from ._conv import register_converters as _register_converters\n",
      "Using TensorFlow backend.\n"
     ]
    }
   ],
   "source": [
    "import matplotlib.pyplot as plt\n",
    "import numpy as np\n",
    "from keras.layers import Input, Dense, Conv2D, MaxPooling2D, UpSampling2D\n",
    "from keras.models import Model\n",
    "from keras import losses\n",
    "from keras.callbacks import EarlyStopping\n",
    "from tensorflow.examples.tutorials.mnist import input_data\n",
    "from keras import backend as K\n",
    "import tensorflow as tf\n",
    "from ipywidgets import interact_manual,interact\n",
    "import pandas as pd\n",
    "from keras.models import load_model"
   ]
  },
  {
   "cell_type": "code",
   "execution_count": 2,
   "metadata": {},
   "outputs": [],
   "source": [
    "sess = tf.Session(config=tf.ConfigProto(allow_soft_placement=True,log_device_placement=True,device_count = {'CPU' : 1, 'GPU' : 0}))\n",
    "K.set_session(sess)"
   ]
  },
  {
   "cell_type": "code",
   "execution_count": 3,
   "metadata": {},
   "outputs": [
    {
     "name": "stdout",
     "output_type": "stream",
     "text": [
      "Extracting MNIST_data/train-images-idx3-ubyte.gz\n",
      "Extracting MNIST_data/train-labels-idx1-ubyte.gz\n",
      "Extracting MNIST_data/t10k-images-idx3-ubyte.gz\n",
      "Extracting MNIST_data/t10k-labels-idx1-ubyte.gz\n",
      "Digit 0 matrix shape: (5444, 784)\n",
      "Digit 1 matrix shape: (6179, 784)\n",
      "Digit 2 matrix shape: (5470, 784)\n",
      "Digit 3 matrix shape: (5638, 784)\n",
      "Digit 4 matrix shape: (5307, 784)\n",
      "Digit 5 matrix shape: (4987, 784)\n",
      "Digit 6 matrix shape: (5417, 784)\n",
      "Digit 7 matrix shape: (5715, 784)\n",
      "Digit 8 matrix shape: (5389, 784)\n",
      "Digit 9 matrix shape: (5454, 784)\n"
     ]
    }
   ],
   "source": [
    "mnist = input_data.read_data_sets(\"MNIST_data/\", one_hot=False)\n",
    "\n",
    "# First we will zip the training labels with the training images\n",
    "dataWithLabels = zip(mnist.train.labels, mnist.train.images)\n",
    "\n",
    "# Now let's turn this into a dictionary where subsets of the images in respect \n",
    "# to digit class are stored via the corresponding key.\n",
    "\n",
    "# Init dataDict with keys [0,9] and empty lists.\n",
    "digitDict = {}\n",
    "for i in range(0,10):\n",
    "    digitDict[i] = []\n",
    "\n",
    "# Assign a list of image vectors to each corresponding digit class index. \n",
    "for i in dataWithLabels:\n",
    "    digitDict[i[0]].append(i[1])\n",
    "\n",
    "# Convert the lists into numpy matricies. (could be done above, but I claim ignorace)\n",
    "for i in range(0,10):\n",
    "    digitDict[i] = np.matrix(digitDict[i])\n",
    "    print(\"Digit {0} matrix shape: {1}\".format(i,digitDict[i].shape))"
   ]
  },
  {
   "cell_type": "code",
   "execution_count": 4,
   "metadata": {},
   "outputs": [],
   "source": [
    "def simpleAE(encoding_dim = 32, input_dim = 784):\n",
    "\n",
    "    # this is our input placeholder\n",
    "    input_img = Input(shape=(input_dim,))\n",
    "    # \"encoded\" is the encoded representation of the input\n",
    "    encoded = Dense(encoding_dim, activation='relu')(input_img)\n",
    "    # \"decoded\" is the lossy reconstruction of the input\n",
    "    decoded = Dense(input_dim, activation='relu')(encoded)\n",
    "\n",
    "    # this model maps an input to its reconstruction\n",
    "    return Model(input_img, decoded)"
   ]
  },
  {
   "cell_type": "code",
   "execution_count": 5,
   "metadata": {},
   "outputs": [],
   "source": [
    "ae1 = simpleAE(64,784)\n",
    "ae1.compile(optimizer='adadelta', loss='binary_crossentropy')"
   ]
  },
  {
   "cell_type": "code",
   "execution_count": 6,
   "metadata": {},
   "outputs": [
    {
     "name": "stdout",
     "output_type": "stream",
     "text": [
      "Epoch 1/100\n",
      "5444/5444 [==============================] - 4s 723us/step - loss: 0.4535\n",
      "Epoch 2/100\n",
      "5444/5444 [==============================] - 1s 114us/step - loss: 0.3024\n",
      "Epoch 3/100\n",
      "5444/5444 [==============================] - 1s 116us/step - loss: 0.2638\n",
      "Epoch 4/100\n",
      "5444/5444 [==============================] - 1s 116us/step - loss: 0.2451\n",
      "Epoch 5/100\n",
      "5444/5444 [==============================] - 1s 116us/step - loss: 0.2259\n",
      "Epoch 6/100\n",
      "5444/5444 [==============================] - 1s 118us/step - loss: 0.2187\n",
      "Epoch 7/100\n",
      "5444/5444 [==============================] - 1s 123us/step - loss: 0.2136\n",
      "Epoch 8/100\n",
      "5444/5444 [==============================] - 1s 122us/step - loss: 0.2100\n",
      "Epoch 9/100\n",
      "5444/5444 [==============================] - 1s 129us/step - loss: 0.2043\n",
      "Epoch 10/100\n",
      "5444/5444 [==============================] - 1s 126us/step - loss: 0.1963\n",
      "Epoch 11/100\n",
      "5444/5444 [==============================] - 1s 126us/step - loss: 0.1908\n",
      "Epoch 12/100\n",
      "5444/5444 [==============================] - 1s 121us/step - loss: 0.1893\n",
      "Epoch 13/100\n",
      "5444/5444 [==============================] - 1s 119us/step - loss: 0.1809\n",
      "Epoch 14/100\n",
      "5444/5444 [==============================] - 1s 119us/step - loss: 0.1749\n",
      "Epoch 15/100\n",
      "5444/5444 [==============================] - 1s 117us/step - loss: 0.1740\n",
      "Epoch 16/100\n",
      "5444/5444 [==============================] - 1s 116us/step - loss: 0.1723\n",
      "Epoch 17/100\n",
      "5444/5444 [==============================] - 1s 114us/step - loss: 0.1716\n",
      "Epoch 18/100\n",
      "5444/5444 [==============================] - 1s 116us/step - loss: 0.1700\n",
      "Epoch 19/100\n",
      "5444/5444 [==============================] - 1s 112us/step - loss: 0.1696\n",
      "Epoch 20/100\n",
      "5444/5444 [==============================] - 1s 112us/step - loss: 0.1670\n",
      "Epoch 21/100\n",
      "5444/5444 [==============================] - 1s 112us/step - loss: 0.1664\n",
      "Epoch 22/100\n",
      "5444/5444 [==============================] - 1s 113us/step - loss: 0.1658\n",
      "Epoch 23/100\n",
      "5444/5444 [==============================] - 1s 113us/step - loss: 0.1652\n",
      "Epoch 24/100\n",
      "5444/5444 [==============================] - 1s 113us/step - loss: 0.1608\n",
      "Epoch 25/100\n",
      "5444/5444 [==============================] - 1s 117us/step - loss: 0.1546\n",
      "Epoch 26/100\n",
      "5444/5444 [==============================] - 1s 112us/step - loss: 0.1537\n",
      "Epoch 27/100\n",
      "5444/5444 [==============================] - 1s 114us/step - loss: 0.1535\n",
      "Epoch 28/100\n",
      "5444/5444 [==============================] - 1s 114us/step - loss: 0.1534\n",
      "Epoch 29/100\n",
      "5444/5444 [==============================] - 1s 112us/step - loss: 0.1514\n",
      "Epoch 30/100\n",
      "5444/5444 [==============================] - 1s 113us/step - loss: 0.1507\n",
      "Epoch 31/100\n",
      "5444/5444 [==============================] - 1s 112us/step - loss: 0.1526\n",
      "Epoch 32/100\n",
      "5444/5444 [==============================] - 1s 114us/step - loss: 0.1506\n",
      "Epoch 33/100\n",
      "5444/5444 [==============================] - 1s 114us/step - loss: 0.1514\n",
      "Epoch 34/100\n",
      "5444/5444 [==============================] - 1s 113us/step - loss: 0.1517\n",
      "Epoch 35/100\n",
      "5444/5444 [==============================] - 1s 111us/step - loss: 0.1516\n",
      "Epoch 36/100\n",
      "5444/5444 [==============================] - 1s 112us/step - loss: 0.1513\n",
      "Epoch 37/100\n",
      "5444/5444 [==============================] - 1s 115us/step - loss: 0.1503\n",
      "Epoch 38/100\n",
      "5444/5444 [==============================] - 1s 115us/step - loss: 0.1508\n",
      "Epoch 39/100\n",
      "5444/5444 [==============================] - 1s 113us/step - loss: 0.1530\n",
      "Epoch 40/100\n",
      "5444/5444 [==============================] - 1s 114us/step - loss: 0.1508\n",
      "Epoch 41/100\n",
      "5444/5444 [==============================] - 1s 112us/step - loss: 0.1518\n",
      "Epoch 42/100\n",
      "5444/5444 [==============================] - 1s 113us/step - loss: 0.1511\n",
      "Epoch 43/100\n",
      "5444/5444 [==============================] - 1s 111us/step - loss: 0.1495\n",
      "Epoch 44/100\n",
      "5444/5444 [==============================] - 1s 113us/step - loss: 0.1512\n",
      "Epoch 45/100\n",
      "5444/5444 [==============================] - 1s 118us/step - loss: 0.1519\n",
      "Epoch 46/100\n",
      "5444/5444 [==============================] - 1s 114us/step - loss: 0.1518\n",
      "Epoch 47/100\n",
      "5444/5444 [==============================] - 1s 113us/step - loss: 0.1508\n",
      "Epoch 48/100\n",
      "5444/5444 [==============================] - 1s 114us/step - loss: 0.1534\n",
      "Epoch 49/100\n",
      "5444/5444 [==============================] - 1s 113us/step - loss: 0.1492\n",
      "Epoch 50/100\n",
      "5444/5444 [==============================] - 1s 115us/step - loss: 0.1526\n",
      "Epoch 51/100\n",
      "5444/5444 [==============================] - 1s 115us/step - loss: 0.1501\n",
      "Epoch 52/100\n",
      "5444/5444 [==============================] - 1s 115us/step - loss: 0.1547\n",
      "Epoch 53/100\n",
      "5444/5444 [==============================] - 1s 105us/step - loss: 0.1503\n",
      "Epoch 54/100\n",
      "5444/5444 [==============================] - 1s 99us/step - loss: 0.1500\n",
      "Epoch 55/100\n",
      "5444/5444 [==============================] - 1s 100us/step - loss: 0.1442\n",
      "Epoch 56/100\n",
      "5444/5444 [==============================] - 1s 100us/step - loss: 0.1416\n",
      "Epoch 57/100\n",
      "5444/5444 [==============================] - 1s 101us/step - loss: 0.1412\n",
      "Epoch 58/100\n",
      "5444/5444 [==============================] - 1s 100us/step - loss: 0.1452\n",
      "Epoch 59/100\n",
      "5444/5444 [==============================] - 1s 100us/step - loss: 0.1414\n",
      "Epoch 60/100\n",
      "5444/5444 [==============================] - 1s 101us/step - loss: 0.1401\n",
      "Epoch 61/100\n",
      "5444/5444 [==============================] - 1s 100us/step - loss: 0.1409\n",
      "Epoch 62/100\n",
      "5444/5444 [==============================] - 1s 102us/step - loss: 0.1428\n",
      "Epoch 63/100\n",
      "5444/5444 [==============================] - 1s 100us/step - loss: 0.1428\n",
      "Epoch 64/100\n",
      "5444/5444 [==============================] - 1s 101us/step - loss: 0.1420\n",
      "Epoch 65/100\n",
      "5444/5444 [==============================] - 1s 103us/step - loss: 0.1409\n",
      "Epoch 66/100\n",
      "5444/5444 [==============================] - 1s 101us/step - loss: 0.1432\n",
      "Epoch 67/100\n",
      "5444/5444 [==============================] - 1s 100us/step - loss: 0.1432\n",
      "Epoch 68/100\n",
      "5444/5444 [==============================] - 1s 100us/step - loss: 0.1397\n",
      "Epoch 69/100\n",
      "5444/5444 [==============================] - 1s 101us/step - loss: 0.1430\n",
      "Epoch 70/100\n",
      "5444/5444 [==============================] - 1s 100us/step - loss: 0.1409\n",
      "Epoch 71/100\n",
      "5444/5444 [==============================] - 1s 101us/step - loss: 0.1430\n",
      "Epoch 72/100\n",
      "5444/5444 [==============================] - 1s 101us/step - loss: 0.1405\n",
      "Epoch 73/100\n",
      "5444/5444 [==============================] - 1s 101us/step - loss: 0.1416\n",
      "Epoch 74/100\n",
      "5444/5444 [==============================] - 1s 100us/step - loss: 0.1395\n",
      "Epoch 75/100\n",
      "5444/5444 [==============================] - 1s 101us/step - loss: 0.1427\n",
      "Epoch 76/100\n",
      "5444/5444 [==============================] - 1s 102us/step - loss: 0.1428\n",
      "Epoch 77/100\n",
      "5444/5444 [==============================] - 1s 101us/step - loss: 0.1404\n",
      "Epoch 78/100\n",
      "5444/5444 [==============================] - 1s 101us/step - loss: 0.1408\n",
      "Epoch 79/100\n",
      "5444/5444 [==============================] - 1s 100us/step - loss: 0.1419\n",
      "Epoch 80/100\n",
      "5444/5444 [==============================] - 1s 100us/step - loss: 0.1459\n",
      "Epoch 81/100\n",
      "5444/5444 [==============================] - 1s 99us/step - loss: 0.1427\n",
      "Epoch 82/100\n",
      "5444/5444 [==============================] - 1s 101us/step - loss: 0.1448\n",
      "Epoch 83/100\n",
      "5444/5444 [==============================] - 1s 101us/step - loss: 0.1427\n",
      "Epoch 84/100\n",
      "5444/5444 [==============================] - 1s 101us/step - loss: 0.1409\n",
      "Epoch 85/100\n",
      "5444/5444 [==============================] - 1s 100us/step - loss: 0.1412\n",
      "Epoch 86/100\n",
      "5444/5444 [==============================] - 1s 101us/step - loss: 0.1438\n",
      "Epoch 87/100\n",
      "5444/5444 [==============================] - 1s 101us/step - loss: 0.1408\n",
      "Epoch 88/100\n",
      "5444/5444 [==============================] - 1s 100us/step - loss: 0.1458\n",
      "Epoch 89/100\n",
      "5444/5444 [==============================] - 1s 101us/step - loss: 0.1459\n",
      "Epoch 90/100\n",
      "5444/5444 [==============================] - 1s 99us/step - loss: 0.1441\n",
      "Epoch 91/100\n",
      "5444/5444 [==============================] - 1s 101us/step - loss: 0.1442\n",
      "Epoch 92/100\n",
      "5444/5444 [==============================] - 1s 100us/step - loss: 0.1425\n",
      "Epoch 93/100\n",
      "5444/5444 [==============================] - 1s 101us/step - loss: 0.1474\n",
      "Epoch 94/100\n",
      "5444/5444 [==============================] - 1s 104us/step - loss: 0.1476\n",
      "Epoch 95/100\n",
      "5444/5444 [==============================] - 1s 102us/step - loss: 0.1416\n",
      "Epoch 96/100\n",
      "5444/5444 [==============================] - 1s 102us/step - loss: 0.1488\n",
      "Epoch 97/100\n",
      "5444/5444 [==============================] - 1s 101us/step - loss: 0.1448\n",
      "Epoch 98/100\n",
      "5444/5444 [==============================] - 1s 101us/step - loss: 0.1417\n",
      "Epoch 99/100\n",
      "5444/5444 [==============================] - 1s 100us/step - loss: 0.1491\n",
      "Epoch 100/100\n",
      "5444/5444 [==============================] - 1s 100us/step - loss: 0.1414\n"
     ]
    }
   ],
   "source": [
    "history = ae1.fit(digitDict[0], digitDict[0],\n",
    "                    epochs=100,\n",
    "                    batch_size=20,\n",
    "                    shuffle=True,verbose=1)"
   ]
  },
  {
   "cell_type": "code",
   "execution_count": 10,
   "metadata": {},
   "outputs": [
    {
     "data": {
      "image/png": "[encoded data removed]",
      "text/plain": [
       "<matplotlib.figure.Figure at 0x1c0184d8b38>"
      ]
     },
     "metadata": {},
     "output_type": "display_data"
    }
   ],
   "source": [
    "res = ae1.predict(np.random.binomial(1,.5,(1,28*28)))\n",
    "plt.imshow(res.reshape(28,28),cmap=\"gray\")\n",
    "plt.show()"
   ]
  },
  {
   "cell_type": "code",
   "execution_count": 87,
   "metadata": {},
   "outputs": [
    {
     "data": {
      "image/png": "[encoded data removed]",
      "text/plain": [
       "<matplotlib.figure.Figure at 0x2a6f28c32e8>"
      ]
     },
     "metadata": {},
     "output_type": "display_data"
    }
   ],
   "source": [
    "res = ae1.predict(np.matrix(np.random.rand(28*28)))\n",
    "plt.imshow(res.reshape(28,28),cmap=\"gray\")\n",
    "plt.show()"
   ]
  },
  {
   "cell_type": "code",
   "execution_count": null,
   "metadata": {},
   "outputs": [],
   "source": [
    "res = ae1.predict(np.random.binomial(1,.5,(1,28*28)))\n",
    "plt.imshow(res.reshape(28,28),cmap=\"gray\")\n",
    "plt.show()\n",
    "\n",
    "for i in range(100):\n",
    "    res = ae1.predict(np.random.binomial(1,.5,(1,28*28)))\n",
    "    plt.imshow(res.reshape(28,28),cmap=\"gray\")\n",
    "    plt.show()\n"
   ]
  },
  {
   "cell_type": "code",
   "execution_count": null,
   "metadata": {},
   "outputs": [],
   "source": []
  }
 ],
 "metadata": {
  "kernelspec": {
   "display_name": "Python 3",
   "language": "python",
   "name": "python3"
  },
  "language_info": {
   "codemirror_mode": {
    "name": "ipython",
    "version": 3
   },
   "file_extension": ".py",
   "mimetype": "text/x-python",
   "name": "python",
   "nbconvert_exporter": "python",
   "pygments_lexer": "ipython3",
   "version": "3.6.2"
  }
 },
 "nbformat": 4,
 "nbformat_minor": 2
}
