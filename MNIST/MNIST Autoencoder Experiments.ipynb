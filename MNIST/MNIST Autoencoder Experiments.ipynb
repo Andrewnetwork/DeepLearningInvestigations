{
 "cells": [
  {
   "cell_type": "markdown",
   "metadata": {},
   "source": [
    "# MNIST Autoencoder Experiments\n",
    "** March 2018 **\n",
    "\n",
    "** Andrew Riberio @ [AndrewRib.com](http://www.andrewrib.com) **\n",
    "\n",
    "Resources\n",
    "* https://www.tensorflow.org/get_started/mnist/beginners\n",
    "* https://blog.keras.io/building-autoencoders-in-keras.html"
   ]
  },
  {
   "cell_type": "markdown",
   "metadata": {},
   "source": [
    "## 1. Libraries and Config"
   ]
  },
  {
   "cell_type": "code",
   "execution_count": 1,
   "metadata": {},
   "outputs": [
    {
     "name": "stderr",
     "output_type": "stream",
     "text": [
      "C:\\Users\\Andre\\Anaconda3\\envs\\GreatEnv\\lib\\site-packages\\h5py\\__init__.py:36: FutureWarning: Conversion of the second argument of issubdtype from `float` to `np.floating` is deprecated. In future, it will be treated as `np.float64 == np.dtype(float).type`.\n",
      "  from ._conv import register_converters as _register_converters\n",
      "Using TensorFlow backend.\n"
     ]
    }
   ],
   "source": [
    "import matplotlib.pyplot as plt\n",
    "import numpy as np\n",
    "from keras.layers import Input, Dense, Conv2D, MaxPooling2D, UpSampling2D\n",
    "from keras.models import Model\n",
    "from keras import losses\n",
    "from keras.callbacks import EarlyStopping\n",
    "from tensorflow.examples.tutorials.mnist import input_data\n",
    "from keras import backend as K\n",
    "import tensorflow as tf\n",
    "from ipywidgets import interact_manual,interact\n",
    "import pandas as pd\n",
    "from keras.models import load_model"
   ]
  },
  {
   "cell_type": "markdown",
   "metadata": {},
   "source": [
    "#### 1.2. Start tensorflow session and have keras use it. "
   ]
  },
  {
   "cell_type": "code",
   "execution_count": 2,
   "metadata": {},
   "outputs": [],
   "source": [
    "sess = tf.Session(config=tf.ConfigProto(allow_soft_placement=True,log_device_placement=True,device_count = {'CPU' : 1, 'GPU' : 1}))\n",
    "K.set_session(sess)"
   ]
  },
  {
   "cell_type": "markdown",
   "metadata": {},
   "source": [
    "## 2. Gathering and Working with MNIST Data"
   ]
  },
  {
   "cell_type": "markdown",
   "metadata": {},
   "source": [
    "#### 2.1. Loading the dataset object into the mnist variable and printing the dimensions of the data matrix and label vector. "
   ]
  },
  {
   "cell_type": "code",
   "execution_count": 3,
   "metadata": {},
   "outputs": [
    {
     "name": "stdout",
     "output_type": "stream",
     "text": [
      "Extracting MNIST_data/train-images-idx3-ubyte.gz\n",
      "Extracting MNIST_data/train-labels-idx1-ubyte.gz\n",
      "Extracting MNIST_data/t10k-images-idx3-ubyte.gz\n",
      "Extracting MNIST_data/t10k-labels-idx1-ubyte.gz\n",
      "Shape of the image data matrix: (55000, 784)\n",
      "Shape of the label data: (55000,)\n"
     ]
    }
   ],
   "source": [
    "mnist = input_data.read_data_sets(\"MNIST_data/\", one_hot=False)\n",
    "print(\"Shape of the image data matrix: {0}\".format(mnist.train.images.shape))\n",
    "print(\"Shape of the label data: {0}\".format(mnist.train.labels.shape))"
   ]
  },
  {
   "cell_type": "markdown",
   "metadata": {},
   "source": [
    "####  2.2. Visualizing an image in our training set. "
   ]
  },
  {
   "cell_type": "code",
   "execution_count": 4,
   "metadata": {},
   "outputs": [
    {
     "data": {
      "image/png": "[encoded data removed]",
      "text/plain": [
       "<matplotlib.figure.Figure at 0x15be6267ef0>"
      ]
     },
     "metadata": {},
     "output_type": "display_data"
    },
    {
     "name": "stdout",
     "output_type": "stream",
     "text": [
      "Image label: 6\n"
     ]
    }
   ],
   "source": [
    "exampleIndex = 3\n",
    "exImage      = mnist.train.images[exampleIndex ,:]\n",
    "exImageLabel = mnist.train.labels[exampleIndex]\n",
    "plt.imshow(exImage.reshape(28,28),cmap='gray')\n",
    "plt.show()\n",
    "print(\"Image label: {0}\".format(exImageLabel))"
   ]
  },
  {
   "cell_type": "markdown",
   "metadata": {},
   "source": [
    "#### 2.3. Split images into digit class tensors."
   ]
  },
  {
   "cell_type": "code",
   "execution_count": 5,
   "metadata": {},
   "outputs": [
    {
     "name": "stdout",
     "output_type": "stream",
     "text": [
      "Digit 0 matrix shape: (5444, 784)\n",
      "Digit 1 matrix shape: (6179, 784)\n",
      "Digit 2 matrix shape: (5470, 784)\n",
      "Digit 3 matrix shape: (5638, 784)\n",
      "Digit 4 matrix shape: (5307, 784)\n",
      "Digit 5 matrix shape: (4987, 784)\n",
      "Digit 6 matrix shape: (5417, 784)\n",
      "Digit 7 matrix shape: (5715, 784)\n",
      "Digit 8 matrix shape: (5389, 784)\n",
      "Digit 9 matrix shape: (5454, 784)\n"
     ]
    }
   ],
   "source": [
    "# First we will zip the training labels with the training images\n",
    "dataWithLabels = zip(mnist.train.labels, mnist.train.images)\n",
    "\n",
    "# Now let's turn this into a dictionary where subsets of the images in respect \n",
    "# to digit class are stored via the corresponding key.\n",
    "\n",
    "# Init dataDict with keys [0,9] and empty lists.\n",
    "digitDict = {}\n",
    "for i in range(0,10):\n",
    "    digitDict[i] = []\n",
    "\n",
    "# Assign a list of image vectors to each corresponding digit class index. \n",
    "for i in dataWithLabels:\n",
    "    digitDict[i[0]].append(i[1])\n",
    "\n",
    "# Convert the lists into numpy matricies. (could be done above, but I claim ignorace)\n",
    "for i in range(0,10):\n",
    "    digitDict[i] = np.matrix(digitDict[i])\n",
    "    print(\"Digit {0} matrix shape: {1}\".format(i,digitDict[i].shape))"
   ]
  },
  {
   "cell_type": "markdown",
   "metadata": {},
   "source": [
    "## 3. Anomoly Detection for Non-Zero Class Digits"
   ]
  },
  {
   "cell_type": "markdown",
   "metadata": {},
   "source": [
    "#### 3.1. Compile a simple single layer non-convolutional autoencoder for the digit class 0. "
   ]
  },
  {
   "cell_type": "code",
   "execution_count": 31,
   "metadata": {},
   "outputs": [],
   "source": [
    "def simpleAE(encoding_dim = 32, input_dim = 784):\n",
    "\n",
    "    # this is our input placeholder\n",
    "    input_img = Input(shape=(input_dim,))\n",
    "    # \"encoded\" is the encoded representation of the input\n",
    "    encoded = Dense(encoding_dim, activation='relu')(input_img)\n",
    "    # \"decoded\" is the lossy reconstruction of the input\n",
    "    decoded = Dense(input_dim, activation='sigmoid')(encoded)\n",
    "\n",
    "    # this model maps an input to its reconstruction\n",
    "    return Model(input_img, decoded)"
   ]
  },
  {
   "cell_type": "code",
   "execution_count": 32,
   "metadata": {},
   "outputs": [],
   "source": [
    "ae1 = simpleAE(64,784)\n",
    "ae1.compile(optimizer='adadelta', loss='binary_crossentropy')"
   ]
  },
  {
   "cell_type": "markdown",
   "metadata": {},
   "source": [
    "#### 3.2. Train the autoencoder and log the loss over epoch history. "
   ]
  },
  {
   "cell_type": "code",
   "execution_count": 33,
   "metadata": {},
   "outputs": [
    {
     "name": "stdout",
     "output_type": "stream",
     "text": [
      "Loading model...\n",
      "Model not found. Training model..\n",
      "Epoch 1/100\n",
      "5444/5444 [==============================] - 11s 2ms/step - loss: 0.2912\n",
      "Epoch 2/100\n",
      "5444/5444 [==============================] - 1s 119us/step - loss: 0.2104\n",
      "Epoch 3/100\n",
      "5444/5444 [==============================] - 1s 118us/step - loss: 0.1919\n",
      "Epoch 4/100\n",
      "5444/5444 [==============================] - 1s 133us/step - loss: 0.1811\n",
      "Epoch 5/100\n",
      "5444/5444 [==============================] - 1s 121us/step - loss: 0.1724\n",
      "Epoch 6/100\n",
      "5444/5444 [==============================] - 1s 120us/step - loss: 0.1647\n",
      "Epoch 7/100\n",
      "5444/5444 [==============================] - 1s 118us/step - loss: 0.1580\n",
      "Epoch 8/100\n",
      "5444/5444 [==============================] - 1s 118us/step - loss: 0.1522\n",
      "Epoch 9/100\n",
      "5444/5444 [==============================] - 1s 117us/step - loss: 0.1472\n",
      "Epoch 10/100\n",
      "5444/5444 [==============================] - 1s 124us/step - loss: 0.1428\n",
      "Epoch 11/100\n",
      "5444/5444 [==============================] - 1s 118us/step - loss: 0.1389\n",
      "Epoch 12/100\n",
      "5444/5444 [==============================] - 1s 120us/step - loss: 0.1354\n",
      "Epoch 13/100\n",
      "5444/5444 [==============================] - 1s 120us/step - loss: 0.1322\n",
      "Epoch 14/100\n",
      "5444/5444 [==============================] - 1s 122us/step - loss: 0.1293\n",
      "Epoch 15/100\n",
      "5444/5444 [==============================] - 1s 116us/step - loss: 0.1266\n",
      "Epoch 16/100\n",
      "5444/5444 [==============================] - 1s 117us/step - loss: 0.1242\n",
      "Epoch 17/100\n",
      "5444/5444 [==============================] - 1s 125us/step - loss: 0.1219\n",
      "Epoch 18/100\n",
      "5444/5444 [==============================] - 1s 120us/step - loss: 0.1198\n",
      "Epoch 19/100\n",
      "5444/5444 [==============================] - 1s 119us/step - loss: 0.1179\n",
      "Epoch 20/100\n",
      "5444/5444 [==============================] - 1s 127us/step - loss: 0.1162\n",
      "Epoch 21/100\n",
      "5444/5444 [==============================] - 1s 119us/step - loss: 0.1146\n",
      "Epoch 22/100\n",
      "5444/5444 [==============================] - 1s 125us/step - loss: 0.1132\n",
      "Epoch 23/100\n",
      "5444/5444 [==============================] - 1s 129us/step - loss: 0.1119\n",
      "Epoch 24/100\n",
      "5444/5444 [==============================] - 1s 121us/step - loss: 0.1107\n",
      "Epoch 25/100\n",
      "5444/5444 [==============================] - 1s 125us/step - loss: 0.1096\n",
      "Epoch 26/100\n",
      "5444/5444 [==============================] - 1s 125us/step - loss: 0.1085\n",
      "Epoch 27/100\n",
      "5444/5444 [==============================] - 1s 115us/step - loss: 0.1076\n",
      "Epoch 28/100\n",
      "5444/5444 [==============================] - 1s 117us/step - loss: 0.1067\n",
      "Epoch 29/100\n",
      "5444/5444 [==============================] - 1s 126us/step - loss: 0.1059\n",
      "Epoch 30/100\n",
      "5444/5444 [==============================] - 1s 119us/step - loss: 0.1052\n",
      "Epoch 31/100\n",
      "5444/5444 [==============================] - 1s 121us/step - loss: 0.1045\n",
      "Epoch 32/100\n",
      "5444/5444 [==============================] - 1s 126us/step - loss: 0.1038\n",
      "Epoch 33/100\n",
      "5444/5444 [==============================] - 1s 115us/step - loss: 0.1032\n",
      "Epoch 34/100\n",
      "5444/5444 [==============================] - 1s 114us/step - loss: 0.1026\n",
      "Epoch 35/100\n",
      "5444/5444 [==============================] - 1s 119us/step - loss: 0.1020\n",
      "Epoch 36/100\n",
      "5444/5444 [==============================] - 1s 116us/step - loss: 0.1015\n",
      "Epoch 37/100\n",
      "5444/5444 [==============================] - 1s 123us/step - loss: 0.1010\n",
      "Epoch 38/100\n",
      "5444/5444 [==============================] - 1s 124us/step - loss: 0.1005\n",
      "Epoch 39/100\n",
      "5444/5444 [==============================] - 1s 126us/step - loss: 0.1001\n",
      "Epoch 40/100\n",
      "5444/5444 [==============================] - 1s 120us/step - loss: 0.0996\n",
      "Epoch 41/100\n",
      "5444/5444 [==============================] - 1s 120us/step - loss: 0.0992\n",
      "Epoch 42/100\n",
      "5444/5444 [==============================] - 1s 115us/step - loss: 0.0988\n",
      "Epoch 43/100\n",
      "5444/5444 [==============================] - 1s 124us/step - loss: 0.0985\n",
      "Epoch 44/100\n",
      "5444/5444 [==============================] - 1s 122us/step - loss: 0.0981\n",
      "Epoch 45/100\n",
      "5444/5444 [==============================] - 1s 115us/step - loss: 0.0977\n",
      "Epoch 46/100\n",
      "5444/5444 [==============================] - 1s 115us/step - loss: 0.0974\n",
      "Epoch 47/100\n",
      "5444/5444 [==============================] - 1s 117us/step - loss: 0.0971\n",
      "Epoch 48/100\n",
      "5444/5444 [==============================] - 1s 122us/step - loss: 0.0968\n",
      "Epoch 49/100\n",
      "5444/5444 [==============================] - 1s 120us/step - loss: 0.0965\n",
      "Epoch 50/100\n",
      "5444/5444 [==============================] - 1s 120us/step - loss: 0.0962\n",
      "Epoch 51/100\n",
      "5444/5444 [==============================] - 1s 125us/step - loss: 0.0960\n",
      "Epoch 52/100\n",
      "5444/5444 [==============================] - 1s 126us/step - loss: 0.0957\n",
      "Epoch 53/100\n",
      "5444/5444 [==============================] - 1s 118us/step - loss: 0.0954\n",
      "Epoch 54/100\n",
      "5444/5444 [==============================] - 1s 119us/step - loss: 0.0952\n",
      "Epoch 55/100\n",
      "5444/5444 [==============================] - 1s 118us/step - loss: 0.0950\n",
      "Epoch 56/100\n",
      "5444/5444 [==============================] - 1s 122us/step - loss: 0.0947\n",
      "Epoch 57/100\n",
      "5444/5444 [==============================] - 1s 127us/step - loss: 0.0945\n",
      "Epoch 58/100\n",
      "5444/5444 [==============================] - 1s 117us/step - loss: 0.0943\n",
      "Epoch 59/100\n",
      "5444/5444 [==============================] - 1s 122us/step - loss: 0.0941\n",
      "Epoch 60/100\n",
      "5444/5444 [==============================] - 1s 117us/step - loss: 0.0939\n",
      "Epoch 61/100\n",
      "5444/5444 [==============================] - 1s 118us/step - loss: 0.0937\n",
      "Epoch 62/100\n",
      "5444/5444 [==============================] - 1s 119us/step - loss: 0.0935\n",
      "Epoch 63/100\n",
      "5444/5444 [==============================] - 1s 125us/step - loss: 0.0934\n",
      "Epoch 64/100\n",
      "5444/5444 [==============================] - 1s 120us/step - loss: 0.0932\n",
      "Epoch 65/100\n",
      "5444/5444 [==============================] - 1s 118us/step - loss: 0.0930\n",
      "Epoch 66/100\n",
      "5444/5444 [==============================] - 1s 119us/step - loss: 0.0929\n",
      "Epoch 67/100\n",
      "5444/5444 [==============================] - 1s 115us/step - loss: 0.0927\n",
      "Epoch 68/100\n",
      "5444/5444 [==============================] - 1s 122us/step - loss: 0.0926\n",
      "Epoch 69/100\n",
      "5444/5444 [==============================] - 1s 121us/step - loss: 0.0924\n",
      "Epoch 70/100\n",
      "5444/5444 [==============================] - 1s 114us/step - loss: 0.0923\n",
      "Epoch 71/100\n",
      "5444/5444 [==============================] - 1s 118us/step - loss: 0.0921\n",
      "Epoch 72/100\n",
      "5444/5444 [==============================] - 1s 122us/step - loss: 0.0920\n",
      "Epoch 73/100\n",
      "5444/5444 [==============================] - 1s 122us/step - loss: 0.0918\n",
      "Epoch 74/100\n",
      "5444/5444 [==============================] - 1s 116us/step - loss: 0.0917\n",
      "Epoch 75/100\n",
      "5444/5444 [==============================] - 1s 123us/step - loss: 0.0916\n",
      "Epoch 76/100\n",
      "5444/5444 [==============================] - 1s 121us/step - loss: 0.0915\n",
      "Epoch 77/100\n",
      "5444/5444 [==============================] - 1s 116us/step - loss: 0.0913\n",
      "Epoch 78/100\n",
      "5444/5444 [==============================] - 1s 121us/step - loss: 0.0912\n",
      "Epoch 79/100\n",
      "5444/5444 [==============================] - 1s 117us/step - loss: 0.0911\n",
      "Epoch 80/100\n",
      "5444/5444 [==============================] - 1s 121us/step - loss: 0.0910\n",
      "Epoch 81/100\n",
      "5444/5444 [==============================] - 1s 128us/step - loss: 0.0909\n",
      "Epoch 82/100\n",
      "5444/5444 [==============================] - 1s 119us/step - loss: 0.0907\n",
      "Epoch 83/100\n",
      "5444/5444 [==============================] - 1s 119us/step - loss: 0.0906\n",
      "Epoch 84/100\n",
      "5444/5444 [==============================] - 1s 122us/step - loss: 0.0905\n",
      "Epoch 85/100\n",
      "5444/5444 [==============================] - 1s 120us/step - loss: 0.0904\n",
      "Epoch 86/100\n",
      "5444/5444 [==============================] - 1s 118us/step - loss: 0.0903\n",
      "Epoch 87/100\n",
      "5444/5444 [==============================] - 1s 124us/step - loss: 0.0902\n",
      "Epoch 88/100\n",
      "5444/5444 [==============================] - 1s 121us/step - loss: 0.0901\n",
      "Epoch 89/100\n",
      "5444/5444 [==============================] - 1s 117us/step - loss: 0.0900\n",
      "Epoch 90/100\n",
      "5444/5444 [==============================] - 1s 124us/step - loss: 0.0899\n",
      "Epoch 91/100\n",
      "5444/5444 [==============================] - 1s 121us/step - loss: 0.0898\n",
      "Epoch 92/100\n",
      "5444/5444 [==============================] - 1s 116us/step - loss: 0.0897\n",
      "Epoch 93/100\n",
      "5444/5444 [==============================] - 1s 128us/step - loss: 0.0896\n",
      "Epoch 94/100\n",
      "5444/5444 [==============================] - 1s 121us/step - loss: 0.0895\n",
      "Epoch 95/100\n",
      "5444/5444 [==============================] - 1s 123us/step - loss: 0.0894\n",
      "Epoch 96/100\n",
      "5444/5444 [==============================] - 1s 122us/step - loss: 0.0894\n",
      "Epoch 97/100\n",
      "5444/5444 [==============================] - 1s 119us/step - loss: 0.0893\n",
      "Epoch 98/100\n",
      "5444/5444 [==============================] - 1s 121us/step - loss: 0.0892\n",
      "Epoch 99/100\n",
      "5444/5444 [==============================] - 1s 124us/step - loss: 0.0891\n",
      "Epoch 100/100\n",
      "5444/5444 [==============================] - 1s 118us/step - loss: 0.0890\n",
      "Model Saved.\n"
     ]
    },
    {
     "data": {
      "image/png": "[encoded data removed]",
      "text/plain": [
       "<matplotlib.figure.Figure at 0x15b9a122320>"
      ]
     },
     "metadata": {},
     "output_type": "display_data"
    }
   ],
   "source": [
    "modelURI = \"models/mnist_zero_autoencoder_1_64.h5\"\n",
    "\n",
    "print(\"Loading model...\")\n",
    "\n",
    "try:\n",
    "    # Load model if found. \n",
    "    ae1 = load_model(modelURI)\n",
    "    print(\"Model found and loaded.\")\n",
    "except:\n",
    "    # Train model if model cannot be loaded. \n",
    "    print(\"Model not found. Training model..\")\n",
    "    \n",
    "    history = ae1.fit(digitDict[0], digitDict[0],\n",
    "                    epochs=100,\n",
    "                    batch_size=20,\n",
    "                    shuffle=True,verbose=1)\n",
    "    \n",
    "    # Save our Model\n",
    "    print(\"Model Saved.\")\n",
    "    ae1.save(modelURI)\n",
    "    \n",
    "    # summarize history for loss\n",
    "    plt.plot(history.history['loss'])\n",
    "    plt.title('model loss')\n",
    "    plt.ylabel('loss')\n",
    "    plt.xlabel('epoch')\n",
    "    plt.legend(['train', 'test'], loc='upper left')\n",
    "    plt.show()"
   ]
  },
  {
   "cell_type": "markdown",
   "metadata": {},
   "source": [
    "#### 3.3. Explore trained autoencoder reconstruction results ( Interactive )"
   ]
  },
  {
   "cell_type": "code",
   "execution_count": 34,
   "metadata": {},
   "outputs": [
    {
     "data": {
      "application/vnd.jupyter.widget-view+json": {
       "model_id": "e4ff922372be471b9ada45e757914101",
       "version_major": 2,
       "version_minor": 0
      },
      "text/html": [
       "<p>Failed to display Jupyter Widget of type <code>interactive</code>.</p>\n",
       "<p>\n",
       "  If you're reading this message in the Jupyter Notebook or JupyterLab Notebook, it may mean\n",
       "  that the widgets JavaScript is still loading. If this message persists, it\n",
       "  likely means that the widgets JavaScript library is either not installed or\n",
       "  not enabled. See the <a href=\"https://ipywidgets.readthedocs.io/en/stable/user_install.html\">Jupyter\n",
       "  Widgets Documentation</a> for setup instructions.\n",
       "</p>\n",
       "<p>\n",
       "  If you're reading this message in another frontend (for example, a static\n",
       "  rendering on GitHub or <a href=\"https://nbviewer.jupyter.org/\">NBViewer</a>),\n",
       "  it may mean that your frontend doesn't currently support widgets.\n",
       "</p>\n"
      ],
      "text/plain": [
       "interactive(children=(IntSlider(value=0, description='digitClass', max=9), IntSlider(value=0, description='nthDigit', max=1000), Button(description='Run Interact', style=ButtonStyle()), Output()), _dom_classes=('widget-interact',))"
      ]
     },
     "metadata": {},
     "output_type": "display_data"
    },
    {
     "data": {
      "text/plain": [
       "<function __main__.dispRes1>"
      ]
     },
     "execution_count": 34,
     "metadata": {},
     "output_type": "execute_result"
    }
   ],
   "source": [
    "def dispRes1(digitClass=0,nthDigit=0):\n",
    "    actual = digitDict[digitClass][nthDigit,:]\n",
    "    pred = ae1.predict(actual)\n",
    "    res = losses.mean_absolute_error(actual,pred)\n",
    "    \n",
    "    fig = plt.figure(figsize=(10, 10))\n",
    "    fig.suptitle(\"Mean Absolute Reconstruction Error: {0:.5}%\".format(sess.run(res)[0]*100), fontsize=16,y=0.73)\n",
    "    \n",
    "    ax1 = fig.add_subplot(1,2,1)\n",
    "    ax1.axis('off')\n",
    "    ax1.set_title(\"Original Image\")\n",
    "    ax1.imshow(actual.reshape(28,28),cmap=\"gray\")\n",
    "    \n",
    "    ax2 = fig.add_subplot(1,2,2)\n",
    "    ax2.axis('off')\n",
    "    ax2.set_title(\"Reconstructed Image\")\n",
    "    ax2.imshow(pred.reshape(28,28),cmap=\"gray\")\n",
    "    \n",
    "    plt.show()\n",
    "    \n",
    "interact_manual(dispRes1,digitClass=(0,9),nthDigit=(0,1000))"
   ]
  },
  {
   "cell_type": "markdown",
   "metadata": {},
   "source": [
    "#### 3.4. Reconstruction Error Distributions ( Interactive )\n",
    "We will now explore the reconstruction error distributions over the digit classes. "
   ]
  },
  {
   "cell_type": "code",
   "execution_count": 35,
   "metadata": {},
   "outputs": [],
   "source": [
    "classLosses = []\n",
    "for digitClass in range(0,10):\n",
    "    lossTensor = losses.mean_absolute_error(digitDict[digitClass],ae1.predict(digitDict[digitClass]))\n",
    "    res = sess.run(lossTensor)\n",
    "    res.sort()\n",
    "    classLosses.append(res)"
   ]
  },
  {
   "cell_type": "code",
   "execution_count": 36,
   "metadata": {},
   "outputs": [
    {
     "data": {
      "application/vnd.jupyter.widget-view+json": {
       "model_id": "5115d77b74aa480d9dd350d36788024d",
       "version_major": 2,
       "version_minor": 0
      },
      "text/html": [
       "<p>Failed to display Jupyter Widget of type <code>interactive</code>.</p>\n",
       "<p>\n",
       "  If you're reading this message in the Jupyter Notebook or JupyterLab Notebook, it may mean\n",
       "  that the widgets JavaScript is still loading. If this message persists, it\n",
       "  likely means that the widgets JavaScript library is either not installed or\n",
       "  not enabled. See the <a href=\"https://ipywidgets.readthedocs.io/en/stable/user_install.html\">Jupyter\n",
       "  Widgets Documentation</a> for setup instructions.\n",
       "</p>\n",
       "<p>\n",
       "  If you're reading this message in another frontend (for example, a static\n",
       "  rendering on GitHub or <a href=\"https://nbviewer.jupyter.org/\">NBViewer</a>),\n",
       "  it may mean that your frontend doesn't currently support widgets.\n",
       "</p>\n"
      ],
      "text/plain": [
       "interactive(children=(IntSlider(value=0, description='digitClass', max=9), Output()), _dom_classes=('widget-interact',))"
      ]
     },
     "metadata": {},
     "output_type": "display_data"
    },
    {
     "data": {
      "text/plain": [
       "<function __main__.dispDists>"
      ]
     },
     "execution_count": 36,
     "metadata": {},
     "output_type": "execute_result"
    }
   ],
   "source": [
    "def dispDists(digitClass=0):\n",
    "    l = len(classLosses[digitClass])\n",
    "    plt.figure(figsize=(6, 6))\n",
    "    plt.hist(classLosses[digitClass],bins=20,range=(0, 0.125))\n",
    "    plt.show()\n",
    "    \n",
    "interact(dispDists,digitClass=(0,9))"
   ]
  },
  {
   "cell_type": "markdown",
   "metadata": {},
   "source": [
    "We will now plot the histograms of the reconstruction error distributions over the digit classes."
   ]
  },
  {
   "cell_type": "code",
   "execution_count": 37,
   "metadata": {},
   "outputs": [
    {
     "data": {
      "image/png": "[encoded data removed]",
      "text/plain": [
       "<matplotlib.figure.Figure at 0x15b98d6a588>"
      ]
     },
     "metadata": {},
     "output_type": "display_data"
    }
   ],
   "source": [
    "plt.figure(figsize=(10, 10))\n",
    "for digitClass in range(0,10):\n",
    "    l = len(classLosses[digitClass])\n",
    "    plt.legend(['0','1','2','3','4','5','6','7','8','9'], loc='upper right')\n",
    "    plt.hist(classLosses[digitClass],bins=20,range=(0, 0.125))\n",
    "plt.show()"
   ]
  },
  {
   "cell_type": "code",
   "execution_count": 38,
   "metadata": {},
   "outputs": [
    {
     "data": {
      "text/html": [
       "<div>\n",
       "<style scoped>\n",
       "    .dataframe tbody tr th:only-of-type {\n",
       "        vertical-align: middle;\n",
       "    }\n",
       "\n",
       "    .dataframe tbody tr th {\n",
       "        vertical-align: top;\n",
       "    }\n",
       "\n",
       "    .dataframe thead th {\n",
       "        text-align: right;\n",
       "    }\n",
       "</style>\n",
       "<table border=\"1\" class=\"dataframe\">\n",
       "  <thead>\n",
       "    <tr style=\"text-align: right;\">\n",
       "      <th></th>\n",
       "      <th>0</th>\n",
       "      <th>1</th>\n",
       "      <th>2</th>\n",
       "      <th>3</th>\n",
       "      <th>4</th>\n",
       "      <th>5</th>\n",
       "      <th>6</th>\n",
       "      <th>7</th>\n",
       "      <th>8</th>\n",
       "      <th>9</th>\n",
       "    </tr>\n",
       "  </thead>\n",
       "  <tbody>\n",
       "    <tr>\n",
       "      <th>count</th>\n",
       "      <td>5444.000000</td>\n",
       "      <td>6179.000000</td>\n",
       "      <td>5470.000000</td>\n",
       "      <td>5638.000000</td>\n",
       "      <td>5307.000000</td>\n",
       "      <td>4987.000000</td>\n",
       "      <td>5417.000000</td>\n",
       "      <td>5715.000000</td>\n",
       "      <td>5389.000000</td>\n",
       "      <td>5454.000000</td>\n",
       "    </tr>\n",
       "    <tr>\n",
       "      <th>mean</th>\n",
       "      <td>0.023555</td>\n",
       "      <td>0.050618</td>\n",
       "      <td>0.060406</td>\n",
       "      <td>0.052698</td>\n",
       "      <td>0.064543</td>\n",
       "      <td>0.055918</td>\n",
       "      <td>0.048636</td>\n",
       "      <td>0.054238</td>\n",
       "      <td>0.059698</td>\n",
       "      <td>0.059719</td>\n",
       "    </tr>\n",
       "    <tr>\n",
       "      <th>std</th>\n",
       "      <td>0.006048</td>\n",
       "      <td>0.011172</td>\n",
       "      <td>0.012814</td>\n",
       "      <td>0.013837</td>\n",
       "      <td>0.011656</td>\n",
       "      <td>0.012653</td>\n",
       "      <td>0.011189</td>\n",
       "      <td>0.012223</td>\n",
       "      <td>0.014361</td>\n",
       "      <td>0.010814</td>\n",
       "    </tr>\n",
       "    <tr>\n",
       "      <th>min</th>\n",
       "      <td>0.011773</td>\n",
       "      <td>0.014641</td>\n",
       "      <td>0.022195</td>\n",
       "      <td>0.021558</td>\n",
       "      <td>0.031291</td>\n",
       "      <td>0.024523</td>\n",
       "      <td>0.017317</td>\n",
       "      <td>0.025370</td>\n",
       "      <td>0.020200</td>\n",
       "      <td>0.025546</td>\n",
       "    </tr>\n",
       "    <tr>\n",
       "      <th>25%</th>\n",
       "      <td>0.019330</td>\n",
       "      <td>0.042684</td>\n",
       "      <td>0.051233</td>\n",
       "      <td>0.042509</td>\n",
       "      <td>0.057116</td>\n",
       "      <td>0.047245</td>\n",
       "      <td>0.040849</td>\n",
       "      <td>0.045301</td>\n",
       "      <td>0.049665</td>\n",
       "      <td>0.052791</td>\n",
       "    </tr>\n",
       "    <tr>\n",
       "      <th>50%</th>\n",
       "      <td>0.022452</td>\n",
       "      <td>0.050653</td>\n",
       "      <td>0.060306</td>\n",
       "      <td>0.050756</td>\n",
       "      <td>0.063328</td>\n",
       "      <td>0.054275</td>\n",
       "      <td>0.047860</td>\n",
       "      <td>0.052630</td>\n",
       "      <td>0.058125</td>\n",
       "      <td>0.058717</td>\n",
       "    </tr>\n",
       "    <tr>\n",
       "      <th>75%</th>\n",
       "      <td>0.026556</td>\n",
       "      <td>0.057630</td>\n",
       "      <td>0.069113</td>\n",
       "      <td>0.060987</td>\n",
       "      <td>0.070706</td>\n",
       "      <td>0.062614</td>\n",
       "      <td>0.055148</td>\n",
       "      <td>0.061687</td>\n",
       "      <td>0.067644</td>\n",
       "      <td>0.065478</td>\n",
       "    </tr>\n",
       "    <tr>\n",
       "      <th>max</th>\n",
       "      <td>0.060401</td>\n",
       "      <td>0.113417</td>\n",
       "      <td>0.114180</td>\n",
       "      <td>0.113039</td>\n",
       "      <td>0.123094</td>\n",
       "      <td>0.120863</td>\n",
       "      <td>0.103828</td>\n",
       "      <td>0.109914</td>\n",
       "      <td>0.130665</td>\n",
       "      <td>0.120293</td>\n",
       "    </tr>\n",
       "  </tbody>\n",
       "</table>\n",
       "</div>"
      ],
      "text/plain": [
       "                 0            1            2            3            4  \\\n",
       "count  5444.000000  6179.000000  5470.000000  5638.000000  5307.000000   \n",
       "mean      0.023555     0.050618     0.060406     0.052698     0.064543   \n",
       "std       0.006048     0.011172     0.012814     0.013837     0.011656   \n",
       "min       0.011773     0.014641     0.022195     0.021558     0.031291   \n",
       "25%       0.019330     0.042684     0.051233     0.042509     0.057116   \n",
       "50%       0.022452     0.050653     0.060306     0.050756     0.063328   \n",
       "75%       0.026556     0.057630     0.069113     0.060987     0.070706   \n",
       "max       0.060401     0.113417     0.114180     0.113039     0.123094   \n",
       "\n",
       "                 5            6            7            8            9  \n",
       "count  4987.000000  5417.000000  5715.000000  5389.000000  5454.000000  \n",
       "mean      0.055918     0.048636     0.054238     0.059698     0.059719  \n",
       "std       0.012653     0.011189     0.012223     0.014361     0.010814  \n",
       "min       0.024523     0.017317     0.025370     0.020200     0.025546  \n",
       "25%       0.047245     0.040849     0.045301     0.049665     0.052791  \n",
       "50%       0.054275     0.047860     0.052630     0.058125     0.058717  \n",
       "75%       0.062614     0.055148     0.061687     0.067644     0.065478  \n",
       "max       0.120863     0.103828     0.109914     0.130665     0.120293  "
      ]
     },
     "execution_count": 38,
     "metadata": {},
     "output_type": "execute_result"
    }
   ],
   "source": [
    "# Summary Statistics for Digit Reconstruction Loss\n",
    "pd.DataFrame(classLosses).transpose().describe()"
   ]
  },
  {
   "cell_type": "markdown",
   "metadata": {},
   "source": [
    "#### 3.5. Classify reconstruction loss. \n",
    "**3.5.1. Create loss classifier network architecture **"
   ]
  },
  {
   "cell_type": "code",
   "execution_count": 39,
   "metadata": {},
   "outputs": [],
   "source": [
    "def simpleNN(encoding_dim = 10, input_dim = 1):\n",
    "\n",
    "    # this is our input placeholder\n",
    "    input_img = Input(shape=(input_dim,))\n",
    "    # \"encoded\" is the encoded representation of the input\n",
    "    encoded = Dense(encoding_dim, activation='relu')(input_img)\n",
    "    # \"decoded\" is the lossy reconstruction of the input\n",
    "    decoded = Dense(1, activation='sigmoid')(encoded)\n",
    "\n",
    "    # this model maps an input to its reconstruction\n",
    "    return Model(input_img, decoded)"
   ]
  },
  {
   "cell_type": "markdown",
   "metadata": {},
   "source": [
    "**3.5.2. Preprocess data for classifier**"
   ]
  },
  {
   "cell_type": "code",
   "execution_count": 40,
   "metadata": {},
   "outputs": [],
   "source": [
    "# Preprocess Data for Classifier\n",
    "zeroClass = classLosses[0]\n",
    "otherClass = np.concatenate(classLosses[1:10])\n",
    "labels = np.concatenate([np.zeros(len(zeroClass)),np.ones(len(otherClass))])\n",
    "data = np.concatenate([zeroClass,otherClass])"
   ]
  },
  {
   "cell_type": "markdown",
   "metadata": {},
   "source": [
    "**3.5.3. Train loss classifier**"
   ]
  },
  {
   "cell_type": "code",
   "execution_count": 41,
   "metadata": {},
   "outputs": [
    {
     "name": "stdout",
     "output_type": "stream",
     "text": [
      "Loading model...\n",
      "Model not found. Training model..\n",
      "Epoch 1/25\n",
      "55000/55000 [==============================] - 16s 285us/step - loss: 0.3116\n",
      "Epoch 2/25\n",
      "55000/55000 [==============================] - 2s 36us/step - loss: 0.2381\n",
      "Epoch 3/25\n",
      "55000/55000 [==============================] - 2s 36us/step - loss: 0.1450\n",
      "Epoch 4/25\n",
      "55000/55000 [==============================] - 2s 35us/step - loss: 0.0954\n",
      "Epoch 5/25\n",
      "55000/55000 [==============================] - 2s 33us/step - loss: 0.0792\n",
      "Epoch 6/25\n",
      "55000/55000 [==============================] - 2s 34us/step - loss: 0.0725\n",
      "Epoch 7/25\n",
      "55000/55000 [==============================] - 2s 34us/step - loss: 0.0690\n",
      "Epoch 8/25\n",
      "55000/55000 [==============================] - 2s 35us/step - loss: 0.0669\n",
      "Epoch 9/25\n",
      "55000/55000 [==============================] - 2s 35us/step - loss: 0.0656\n",
      "Epoch 10/25\n",
      "55000/55000 [==============================] - 2s 34us/step - loss: 0.0647\n",
      "Epoch 11/25\n",
      "55000/55000 [==============================] - 2s 34us/step - loss: 0.0641\n",
      "Epoch 12/25\n",
      "55000/55000 [==============================] - 2s 35us/step - loss: 0.0636\n",
      "Epoch 13/25\n",
      "55000/55000 [==============================] - 2s 35us/step - loss: 0.0633\n",
      "Epoch 14/25\n",
      "55000/55000 [==============================] - 2s 34us/step - loss: 0.0630\n",
      "Epoch 15/25\n",
      "55000/55000 [==============================] - 2s 35us/step - loss: 0.0629\n",
      "Epoch 16/25\n",
      "55000/55000 [==============================] - 2s 38us/step - loss: 0.0626\n",
      "Epoch 17/25\n",
      "55000/55000 [==============================] - 2s 36us/step - loss: 0.0626\n",
      "Epoch 18/25\n",
      "55000/55000 [==============================] - 2s 35us/step - loss: 0.0624\n",
      "Epoch 19/25\n",
      "55000/55000 [==============================] - 2s 34us/step - loss: 0.0624\n",
      "Epoch 20/25\n",
      "55000/55000 [==============================] - 2s 33us/step - loss: 0.0624\n",
      "Epoch 21/25\n",
      "55000/55000 [==============================] - 2s 34us/step - loss: 0.0624\n",
      "Epoch 22/25\n",
      "55000/55000 [==============================] - 2s 34us/step - loss: 0.0623\n",
      "Epoch 23/25\n",
      "55000/55000 [==============================] - 2s 34us/step - loss: 0.0623\n",
      "Epoch 24/25\n",
      "55000/55000 [==============================] - 2s 34us/step - loss: 0.0623\n",
      "Epoch 25/25\n",
      "55000/55000 [==============================] - 2s 34us/step - loss: 0.0622\n",
      "Model Saved.\n"
     ]
    },
    {
     "data": {
      "image/png": "[encoded data removed]",
      "text/plain": [
       "<matplotlib.figure.Figure at 0x15b99115a90>"
      ]
     },
     "metadata": {},
     "output_type": "display_data"
    }
   ],
   "source": [
    "modelURI = \"models/reconstruction_loss_1_64.h5\"\n",
    "\n",
    "print(\"Loading model...\")\n",
    "\n",
    "try:\n",
    "    # Load model if found. \n",
    "    snn = load_model(modelURI)\n",
    "    print(\"Model found and loaded.\")\n",
    "except:\n",
    "    # Train model if model cannot be loaded. \n",
    "    print(\"Model not found. Training model..\")\n",
    "    \n",
    "    snn = simpleNN()\n",
    "    snn.compile(optimizer='adadelta', loss='binary_crossentropy')\n",
    "    history = snn.fit(data, labels,\n",
    "                        epochs=25,\n",
    "                        batch_size=20,\n",
    "                        shuffle=True,verbose=1)\n",
    "    \n",
    "    # Save our Model\n",
    "    print(\"Model Saved.\")\n",
    "    snn.save(modelURI)\n",
    "    \n",
    "    # summarize history for loss\n",
    "    plt.plot(history.history['loss'])\n",
    "    plt.title('model loss')\n",
    "    plt.ylabel('loss')\n",
    "    plt.xlabel('epoch')\n",
    "    plt.legend(['train', 'test'], loc='upper left')\n",
    "    plt.show()\n"
   ]
  },
  {
   "cell_type": "markdown",
   "metadata": {},
   "source": [
    "**3.5.4. Visualize results.**"
   ]
  },
  {
   "cell_type": "code",
   "execution_count": 17,
   "metadata": {},
   "outputs": [
    {
     "data": {
      "application/vnd.jupyter.widget-view+json": {
       "model_id": "88ac613b9dfe4ee1a5ec905c03e0a146",
       "version_major": 2,
       "version_minor": 0
      },
      "text/html": [
       "<p>Failed to display Jupyter Widget of type <code>interactive</code>.</p>\n",
       "<p>\n",
       "  If you're reading this message in the Jupyter Notebook or JupyterLab Notebook, it may mean\n",
       "  that the widgets JavaScript is still loading. If this message persists, it\n",
       "  likely means that the widgets JavaScript library is either not installed or\n",
       "  not enabled. See the <a href=\"https://ipywidgets.readthedocs.io/en/stable/user_install.html\">Jupyter\n",
       "  Widgets Documentation</a> for setup instructions.\n",
       "</p>\n",
       "<p>\n",
       "  If you're reading this message in another frontend (for example, a static\n",
       "  rendering on GitHub or <a href=\"https://nbviewer.jupyter.org/\">NBViewer</a>),\n",
       "  it may mean that your frontend doesn't currently support widgets.\n",
       "</p>\n"
      ],
      "text/plain": [
       "interactive(children=(IntSlider(value=0, description='digitClass', max=9), IntSlider(value=0, description='nthDigit', max=1000), Button(description='Run Interact', style=ButtonStyle()), Output()), _dom_classes=('widget-interact',))"
      ]
     },
     "metadata": {},
     "output_type": "display_data"
    },
    {
     "data": {
      "text/plain": [
       "<function __main__.dispRes1>"
      ]
     },
     "execution_count": 17,
     "metadata": {},
     "output_type": "execute_result"
    }
   ],
   "source": [
    "def dispRes1(digitClass=0,nthDigit=0):\n",
    "    classificationThresh = 0.5\n",
    "    actual = digitDict[digitClass][nthDigit,:]\n",
    "    pred = ae1.predict(actual)\n",
    "    res = losses.mean_absolute_error(actual,pred)\n",
    "    res = sess.run(res)\n",
    "    \n",
    "    fig = plt.figure(figsize=(10, 10))\n",
    "    fig.suptitle(\"Mean Absolute Reconstruction Error: {0:.5}%\".format(res[0]*100), fontsize=16,y=0.73)\n",
    "    \n",
    "    ax1 = fig.add_subplot(1,2,1)\n",
    "    ax1.axis('off')\n",
    "    ax1.set_title(\"Original Image\")\n",
    "    ax1.imshow(actual.reshape(28,28),cmap=\"gray\")\n",
    "    \n",
    "    ax2 = fig.add_subplot(1,2,2)\n",
    "    ax2.axis('off')\n",
    "    ax2.set_title(\"Reconstructed Image\")\n",
    "    ax2.imshow(pred.reshape(28,28),cmap=\"gray\")\n",
    "    \n",
    "    plt.show()\n",
    "    \n",
    "    snnRes = snn.predict(res)[0][0]\n",
    "    \n",
    "    if snnRes < classificationThresh:\n",
    "        print(\"Classification 0 : [{0}]\".format( 1-snnRes ))\n",
    "    else:\n",
    "        print(\"Classification ANOMALY : [{0}]\".format( snnRes ))\n",
    "        \n",
    "    \n",
    "    \n",
    "    \n",
    "interact_manual(dispRes1,digitClass=(0,9),nthDigit=(0,1000))"
   ]
  },
  {
   "cell_type": "markdown",
   "metadata": {},
   "source": [
    "**3.5.5. Evaluate the classification accuracy**"
   ]
  },
  {
   "cell_type": "code",
   "execution_count": 42,
   "metadata": {},
   "outputs": [],
   "source": [
    "classificationThresh = 0.5\n",
    "\n",
    "# Get all the training images. \n",
    "actual = mnist.train.images\n",
    "\n",
    "# Pass all the images through the trained zero digit autoencoder. \n",
    "pred = ae1.predict(actual)\n",
    "\n",
    "# Calculuate the reconstruction loss for each image passed through the autoencoder. \n",
    "res = losses.mean_absolute_error(actual,pred)\n",
    "\n",
    "# Use tensorflow to compute the value. \n",
    "res = sess.run(res)\n",
    "\n",
    "# Pass the losses through the loss classifier. \n",
    "snnRes = snn.predict(res)"
   ]
  },
  {
   "cell_type": "code",
   "execution_count": 43,
   "metadata": {},
   "outputs": [],
   "source": [
    "def tresholdFn( loss ):\n",
    "    if loss < classificationThresh:\n",
    "        return 0\n",
    "    else:\n",
    "        return 1\n",
    "\n",
    "predictions = np.vectorize(tresholdFn)(snnRes)"
   ]
  },
  {
   "cell_type": "code",
   "execution_count": 44,
   "metadata": {},
   "outputs": [
    {
     "name": "stdout",
     "output_type": "stream",
     "text": [
      "Number of false negatives: 554\n",
      "Percentage of false negatives: 10.2%\n",
      "---\n",
      "Number of false positives: 684\n",
      "Percentage of false positives: 1.38026%\n"
     ]
    }
   ],
   "source": [
    "nData = mnist.train.labels.shape[0]\n",
    "nFalsePos = 0\n",
    "falsePosIdxs = []\n",
    "nFalseNeg = 0\n",
    "falseNegIdxs = []\n",
    "\n",
    "for index,prediction,label,in zip(range(nData),predictions,mnist.train.labels):\n",
    "    # Compute the number of false negatives. \n",
    "    if label == 0 and prediction == 1:\n",
    "        nFalseNeg += 1\n",
    "        falseNegIdxs.append(index)\n",
    "        \n",
    "    # Compute the number of false positives. \n",
    "    if label != 0 and prediction == 0:\n",
    "        nFalsePos += 1\n",
    "        falsePosIdxs.append(index)\n",
    "    \n",
    "print(\"Number of false negatives: {0}\".format(nFalseNeg))\n",
    "print(\"Percentage of false negatives: {0:.3}%\".format(nFalseNeg/digitDict[0].shape[0]*100))\n",
    "print(\"---\")\n",
    "print(\"Number of false positives: {0}\".format(nFalsePos))\n",
    "print(\"Percentage of false positives: {0:.6}%\".format(nFalsePos/otherClass.shape[0]*100))"
   ]
  },
  {
   "cell_type": "code",
   "execution_count": 22,
   "metadata": {},
   "outputs": [],
   "source": [
    "autoResults = ae1.predict(mnist.train.images)\n",
    "lossRes = losses.mean_absolute_error(mnist.train.images,autoResults)\n",
    "lossRes = sess.run(lossRes)"
   ]
  },
  {
   "cell_type": "markdown",
   "metadata": {},
   "source": [
    "Visualize False Positives. False positives are non-zero characters that are classified as zeros. "
   ]
  },
  {
   "cell_type": "code",
   "execution_count": 45,
   "metadata": {},
   "outputs": [
    {
     "data": {
      "application/vnd.jupyter.widget-view+json": {
       "model_id": "e73f6c4b1877444996e2c17417f98a7b",
       "version_major": 2,
       "version_minor": 0
      },
      "text/html": [
       "<p>Failed to display Jupyter Widget of type <code>interactive</code>.</p>\n",
       "<p>\n",
       "  If you're reading this message in the Jupyter Notebook or JupyterLab Notebook, it may mean\n",
       "  that the widgets JavaScript is still loading. If this message persists, it\n",
       "  likely means that the widgets JavaScript library is either not installed or\n",
       "  not enabled. See the <a href=\"https://ipywidgets.readthedocs.io/en/stable/user_install.html\">Jupyter\n",
       "  Widgets Documentation</a> for setup instructions.\n",
       "</p>\n",
       "<p>\n",
       "  If you're reading this message in another frontend (for example, a static\n",
       "  rendering on GitHub or <a href=\"https://nbviewer.jupyter.org/\">NBViewer</a>),\n",
       "  it may mean that your frontend doesn't currently support widgets.\n",
       "</p>\n"
      ],
      "text/plain": [
       "interactive(children=(IntSlider(value=0, description='idx', max=683), Output()), _dom_classes=('widget-interact',))"
      ]
     },
     "metadata": {},
     "output_type": "display_data"
    },
    {
     "data": {
      "text/plain": [
       "<function __main__.displayFalsePos>"
      ]
     },
     "execution_count": 45,
     "metadata": {},
     "output_type": "execute_result"
    }
   ],
   "source": [
    "def displayFalsePos(idx = 0):\n",
    "    classificationThresh = 0.5\n",
    "    \n",
    "    indexVis = falsePosIdxs[idx]\n",
    "    \n",
    "    fig = plt.figure(figsize=(10, 10))\n",
    "    fig.suptitle(\"False Positives - Mean Absolute Reconstruction Error: {0:.5}%\".format(lossRes[indexVis]*100), fontsize=16,y=0.73)\n",
    "    \n",
    "    ax1 = fig.add_subplot(1,2,1)\n",
    "    ax1.axis('off')\n",
    "    ax1.set_title(\"Original Image\")\n",
    "    ax1.imshow(mnist.train.images[indexVis,:].reshape(28,28),cmap=\"gray\")\n",
    "    \n",
    "    ax2 = fig.add_subplot(1,2,2)\n",
    "    ax2.axis('off')\n",
    "    ax2.set_title(\"Reconstructed Image\")\n",
    "    ax2.imshow(autoResults[indexVis,:].reshape(28,28),cmap=\"gray\")\n",
    "    \n",
    "    plt.show()\n",
    "    \n",
    "    print(\"Absolute index value: {0}.\".format(indexVis))\n",
    "    print(\"Image label: {0}.\".format(mnist.train.labels[indexVis]))\n",
    "        \n",
    "interact(displayFalsePos,idx = (0,len(falsePosIdxs)-1))"
   ]
  },
  {
   "cell_type": "code",
   "execution_count": 46,
   "metadata": {},
   "outputs": [
    {
     "data": {
      "application/vnd.jupyter.widget-view+json": {
       "model_id": "9b4be46a7f0442c39ee6c4c9d30a0a1d",
       "version_major": 2,
       "version_minor": 0
      },
      "text/html": [
       "<p>Failed to display Jupyter Widget of type <code>interactive</code>.</p>\n",
       "<p>\n",
       "  If you're reading this message in the Jupyter Notebook or JupyterLab Notebook, it may mean\n",
       "  that the widgets JavaScript is still loading. If this message persists, it\n",
       "  likely means that the widgets JavaScript library is either not installed or\n",
       "  not enabled. See the <a href=\"https://ipywidgets.readthedocs.io/en/stable/user_install.html\">Jupyter\n",
       "  Widgets Documentation</a> for setup instructions.\n",
       "</p>\n",
       "<p>\n",
       "  If you're reading this message in another frontend (for example, a static\n",
       "  rendering on GitHub or <a href=\"https://nbviewer.jupyter.org/\">NBViewer</a>),\n",
       "  it may mean that your frontend doesn't currently support widgets.\n",
       "</p>\n"
      ],
      "text/plain": [
       "interactive(children=(IntSlider(value=0, description='idx', max=553), Output()), _dom_classes=('widget-interact',))"
      ]
     },
     "metadata": {},
     "output_type": "display_data"
    },
    {
     "data": {
      "text/plain": [
       "<function __main__.displayFalseNeg>"
      ]
     },
     "execution_count": 46,
     "metadata": {},
     "output_type": "execute_result"
    }
   ],
   "source": [
    "def displayFalseNeg(idx = 0):\n",
    "    classificationThresh = 0.5\n",
    "    \n",
    "    indexVis = falseNegIdxs[idx]\n",
    "    \n",
    "    fig = plt.figure(figsize=(10, 10))\n",
    "    fig.suptitle(\"False Negatives - Mean Absolute Reconstruction Error: {0:.5}%\".format(lossRes[indexVis]*100), fontsize=16,y=0.73)\n",
    "    \n",
    "    ax1 = fig.add_subplot(1,2,1)\n",
    "    ax1.axis('off')\n",
    "    ax1.set_title(\"Original Image\")\n",
    "    ax1.imshow(mnist.train.images[indexVis,:].reshape(28,28),cmap=\"gray\")\n",
    "    \n",
    "    ax2 = fig.add_subplot(1,2,2)\n",
    "    ax2.axis('off')\n",
    "    ax2.set_title(\"Reconstructed Image\")\n",
    "    ax2.imshow(autoResults[indexVis,:].reshape(28,28),cmap=\"gray\")\n",
    "    \n",
    "    plt.show()\n",
    "    \n",
    "    print(\"Absolute index value: {0}.\".format(indexVis))\n",
    "    print(\"Image label: {0}.\".format(mnist.train.labels[indexVis]))\n",
    "        \n",
    "interact(displayFalseNeg,idx = (0,len(falseNegIdxs)-1))"
   ]
  },
  {
   "cell_type": "markdown",
   "metadata": {},
   "source": [
    "Number of false negatives: 757\n",
    "Percentage of false negatives: 13.9%\n",
    "---\n",
    "Number of false positives: 394\n",
    "Percentage of false positives: 0.79506%"
   ]
  },
  {
   "cell_type": "code",
   "execution_count": null,
   "metadata": {},
   "outputs": [],
   "source": []
  }
 ],
 "metadata": {
  "kernelspec": {
   "display_name": "Python 3",
   "language": "python",
   "name": "python3"
  },
  "language_info": {
   "codemirror_mode": {
    "name": "ipython",
    "version": 3
   },
   "file_extension": ".py",
   "mimetype": "text/x-python",
   "name": "python",
   "nbconvert_exporter": "python",
   "pygments_lexer": "ipython3",
   "version": "3.6.2"
  }
 },
 "nbformat": 4,
 "nbformat_minor": 2
}
