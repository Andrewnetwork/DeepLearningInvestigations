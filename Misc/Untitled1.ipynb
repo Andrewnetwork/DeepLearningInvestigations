{
 "cells": [
  {
   "cell_type": "code",
   "execution_count": 61,
   "metadata": {},
   "outputs": [],
   "source": [
    "from keras.layers import Input, Dense\n",
    "from keras.models import Model\n",
    "import matplotlib.pyplot as plt\n",
    "import numpy as np\n",
    "from keras import losses"
   ]
  },
  {
   "cell_type": "code",
   "execution_count": 2,
   "metadata": {},
   "outputs": [
    {
     "ename": "NameError",
     "evalue": "name 'np' is not defined",
     "output_type": "error",
     "traceback": [
      "\u001b[1;31m---------------------------------------------------------------------------\u001b[0m",
      "\u001b[1;31mNameError\u001b[0m                                 Traceback (most recent call last)",
      "\u001b[1;32m<ipython-input-2-627706e3f6ed>\u001b[0m in \u001b[0;36m<module>\u001b[1;34m()\u001b[0m\n\u001b[0;32m      1\u001b[0m \u001b[1;31m#20,000 trials of 10 coin flips.\u001b[0m\u001b[1;33m\u001b[0m\u001b[1;33m\u001b[0m\u001b[0m\n\u001b[1;32m----> 2\u001b[1;33m \u001b[0mcoinFlips\u001b[0m \u001b[1;33m=\u001b[0m \u001b[0mnp\u001b[0m\u001b[1;33m.\u001b[0m\u001b[0mrandom\u001b[0m\u001b[1;33m.\u001b[0m\u001b[0mbinomial\u001b[0m\u001b[1;33m(\u001b[0m\u001b[1;36m1\u001b[0m\u001b[1;33m,\u001b[0m\u001b[1;36m.1\u001b[0m\u001b[1;33m,\u001b[0m\u001b[1;33m(\u001b[0m\u001b[1;36m20000\u001b[0m\u001b[1;33m,\u001b[0m\u001b[1;36m10\u001b[0m\u001b[1;33m)\u001b[0m\u001b[1;33m)\u001b[0m\u001b[1;33m\u001b[0m\u001b[0m\n\u001b[0m",
      "\u001b[1;31mNameError\u001b[0m: name 'np' is not defined"
     ]
    }
   ],
   "source": [
    "#20,000 trials of 10 coin flips. \n",
    "coinFlips = np.random.binomial(1,.5,(20000,10))"
   ]
  },
  {
   "cell_type": "code",
   "execution_count": 98,
   "metadata": {},
   "outputs": [],
   "source": [
    "def simpleAE(encoding_dim = 32, input_dim = 784):\n",
    "\n",
    "    # this is our input placeholder\n",
    "    input_img = Input(shape=(input_dim,))\n",
    "    # \"encoded\" is the encoded representation of the input\n",
    "    encoded = Dense(encoding_dim, activation='relu')(input_img)\n",
    "    # \"decoded\" is the lossy reconstruction of the input\n",
    "    decoded = Dense(input_dim, activation='sigmoid')(encoded)\n",
    "\n",
    "    # this model maps an input to its reconstruction\n",
    "    return Model(input_img, decoded)"
   ]
  },
  {
   "cell_type": "code",
   "execution_count": 94,
   "metadata": {},
   "outputs": [],
   "source": [
    "autoEnc = simpleAE(9,10)\n",
    "autoEnc.compile(optimizer='adadelta', loss='binary_crossentropy')"
   ]
  },
  {
   "cell_type": "code",
   "execution_count": 95,
   "metadata": {},
   "outputs": [
    {
     "name": "stdout",
     "output_type": "stream",
     "text": [
      "Epoch 1/100\n",
      "20000/20000 [==============================] - 1s 65us/step - loss: 0.5282\n",
      "Epoch 2/100\n",
      "20000/20000 [==============================] - 1s 56us/step - loss: 0.2536\n",
      "Epoch 3/100\n",
      "20000/20000 [==============================] - 1s 55us/step - loss: 0.1252\n",
      "Epoch 4/100\n",
      "20000/20000 [==============================] - 1s 54us/step - loss: 0.0768\n",
      "Epoch 5/100\n",
      "20000/20000 [==============================] - 1s 56us/step - loss: 0.0572\n",
      "Epoch 6/100\n",
      "20000/20000 [==============================] - 1s 56us/step - loss: 0.0469\n",
      "Epoch 7/100\n",
      "20000/20000 [==============================] - 1s 53us/step - loss: 0.0402\n",
      "Epoch 8/100\n",
      "20000/20000 [==============================] - 1s 55us/step - loss: 0.0355\n",
      "Epoch 9/100\n",
      "20000/20000 [==============================] - 1s 55us/step - loss: 0.0319\n",
      "Epoch 10/100\n",
      "20000/20000 [==============================] - 1s 58us/step - loss: 0.0290\n",
      "Epoch 11/100\n",
      "20000/20000 [==============================] - 1s 55us/step - loss: 0.0265\n",
      "Epoch 12/100\n",
      "20000/20000 [==============================] - 1s 53us/step - loss: 0.0245\n",
      "Epoch 13/100\n",
      "20000/20000 [==============================] - 1s 53us/step - loss: 0.0226\n",
      "Epoch 14/100\n",
      "20000/20000 [==============================] - 1s 54us/step - loss: 0.0211\n",
      "Epoch 15/100\n",
      "20000/20000 [==============================] - 1s 55us/step - loss: 0.0198\n",
      "Epoch 16/100\n",
      "20000/20000 [==============================] - 1s 56us/step - loss: 0.0185\n",
      "Epoch 17/100\n",
      "20000/20000 [==============================] - 1s 54us/step - loss: 0.0174\n",
      "Epoch 18/100\n",
      "20000/20000 [==============================] - 1s 55us/step - loss: 0.0165\n",
      "Epoch 19/100\n",
      "20000/20000 [==============================] - 1s 53us/step - loss: 0.0156\n",
      "Epoch 20/100\n",
      "20000/20000 [==============================] - 1s 52us/step - loss: 0.0148\n",
      "Epoch 21/100\n",
      "20000/20000 [==============================] - 1s 53us/step - loss: 0.0141\n",
      "Epoch 22/100\n",
      "20000/20000 [==============================] - 1s 53us/step - loss: 0.0134\n",
      "Epoch 23/100\n",
      "20000/20000 [==============================] - 1s 56us/step - loss: 0.0128\n",
      "Epoch 24/100\n",
      "20000/20000 [==============================] - 1s 55us/step - loss: 0.0123\n",
      "Epoch 25/100\n",
      "20000/20000 [==============================] - 1s 55us/step - loss: 0.0118\n",
      "Epoch 26/100\n",
      "20000/20000 [==============================] - 1s 54us/step - loss: 0.0114\n",
      "Epoch 27/100\n",
      "20000/20000 [==============================] - 1s 54us/step - loss: 0.0110\n",
      "Epoch 28/100\n",
      "20000/20000 [==============================] - 1s 55us/step - loss: 0.0106\n",
      "Epoch 29/100\n",
      "20000/20000 [==============================] - 1s 55us/step - loss: 0.0102\n",
      "Epoch 30/100\n",
      "20000/20000 [==============================] - 1s 54us/step - loss: 0.0099\n",
      "Epoch 31/100\n",
      "20000/20000 [==============================] - 1s 55us/step - loss: 0.0096\n",
      "Epoch 32/100\n",
      "20000/20000 [==============================] - 1s 53us/step - loss: 0.0093\n",
      "Epoch 33/100\n",
      "20000/20000 [==============================] - 1s 55us/step - loss: 0.0090\n",
      "Epoch 34/100\n",
      "20000/20000 [==============================] - 1s 54us/step - loss: 0.0088\n",
      "Epoch 35/100\n",
      "20000/20000 [==============================] - 1s 55us/step - loss: 0.0085\n",
      "Epoch 36/100\n",
      "20000/20000 [==============================] - 1s 54us/step - loss: 0.0083\n",
      "Epoch 37/100\n",
      "20000/20000 [==============================] - 1s 54us/step - loss: 0.0081\n",
      "Epoch 38/100\n",
      "20000/20000 [==============================] - 1s 54us/step - loss: 0.0079\n",
      "Epoch 39/100\n",
      "20000/20000 [==============================] - 1s 54us/step - loss: 0.0077\n",
      "Epoch 40/100\n",
      "20000/20000 [==============================] - 1s 55us/step - loss: 0.0076\n",
      "Epoch 41/100\n",
      "20000/20000 [==============================] - 1s 57us/step - loss: 0.0074\n",
      "Epoch 42/100\n",
      "20000/20000 [==============================] - 1s 59us/step - loss: 0.0073\n",
      "Epoch 43/100\n",
      "20000/20000 [==============================] - 1s 54us/step - loss: 0.0071\n",
      "Epoch 44/100\n",
      "20000/20000 [==============================] - 1s 54us/step - loss: 0.0070\n",
      "Epoch 45/100\n",
      "20000/20000 [==============================] - 1s 52us/step - loss: 0.0068\n",
      "Epoch 46/100\n",
      "20000/20000 [==============================] - 1s 56us/step - loss: 0.0067\n",
      "Epoch 47/100\n",
      "20000/20000 [==============================] - 1s 54us/step - loss: 0.0066\n",
      "Epoch 48/100\n",
      "20000/20000 [==============================] - 1s 55us/step - loss: 0.0065\n",
      "Epoch 49/100\n",
      "20000/20000 [==============================] - 1s 53us/step - loss: 0.0064\n",
      "Epoch 50/100\n",
      "20000/20000 [==============================] - 1s 53us/step - loss: 0.0062\n",
      "Epoch 51/100\n",
      "20000/20000 [==============================] - 1s 56us/step - loss: 0.0061\n",
      "Epoch 52/100\n",
      "20000/20000 [==============================] - 1s 56us/step - loss: 0.0060\n",
      "Epoch 53/100\n",
      "20000/20000 [==============================] - 1s 54us/step - loss: 0.0059\n",
      "Epoch 54/100\n",
      "20000/20000 [==============================] - 1s 55us/step - loss: 0.0058\n",
      "Epoch 55/100\n",
      "20000/20000 [==============================] - 1s 54us/step - loss: 0.0058\n",
      "Epoch 56/100\n",
      "20000/20000 [==============================] - 1s 54us/step - loss: 0.0057\n",
      "Epoch 57/100\n",
      "20000/20000 [==============================] - 1s 53us/step - loss: 0.0056\n",
      "Epoch 58/100\n",
      "20000/20000 [==============================] - 1s 55us/step - loss: 0.0055\n",
      "Epoch 59/100\n",
      "20000/20000 [==============================] - 1s 56us/step - loss: 0.0055\n",
      "Epoch 60/100\n",
      "20000/20000 [==============================] - 1s 55us/step - loss: 0.0054\n",
      "Epoch 61/100\n",
      "20000/20000 [==============================] - 1s 53us/step - loss: 0.0053\n",
      "Epoch 62/100\n",
      "20000/20000 [==============================] - 1s 55us/step - loss: 0.0053\n",
      "Epoch 63/100\n",
      "20000/20000 [==============================] - 1s 51us/step - loss: 0.0052\n",
      "Epoch 64/100\n",
      "20000/20000 [==============================] - 1s 53us/step - loss: 0.0051\n",
      "Epoch 65/100\n",
      "20000/20000 [==============================] - 1s 51us/step - loss: 0.0051\n",
      "Epoch 66/100\n",
      "20000/20000 [==============================] - 1s 53us/step - loss: 0.0050\n",
      "Epoch 67/100\n",
      "20000/20000 [==============================] - 1s 55us/step - loss: 0.0049\n",
      "Epoch 68/100\n",
      "20000/20000 [==============================] - 1s 56us/step - loss: 0.0049\n",
      "Epoch 69/100\n",
      "20000/20000 [==============================] - 1s 56us/step - loss: 0.0048\n",
      "Epoch 70/100\n",
      "20000/20000 [==============================] - 1s 54us/step - loss: 0.0048\n",
      "Epoch 71/100\n",
      "20000/20000 [==============================] - 1s 54us/step - loss: 0.0048\n",
      "Epoch 72/100\n",
      "20000/20000 [==============================] - 1s 56us/step - loss: 0.0047\n",
      "Epoch 73/100\n",
      "20000/20000 [==============================] - 1s 53us/step - loss: 0.0047\n",
      "Epoch 74/100\n",
      "20000/20000 [==============================] - 1s 54us/step - loss: 0.0046\n",
      "Epoch 75/100\n",
      "20000/20000 [==============================] - 1s 55us/step - loss: 0.0046\n",
      "Epoch 76/100\n",
      "20000/20000 [==============================] - 1s 54us/step - loss: 0.0045\n",
      "Epoch 77/100\n",
      "20000/20000 [==============================] - 1s 56us/step - loss: 0.0045\n",
      "Epoch 78/100\n",
      "20000/20000 [==============================] - 1s 55us/step - loss: 0.0044\n",
      "Epoch 79/100\n",
      "20000/20000 [==============================] - 1s 54us/step - loss: 0.0044\n",
      "Epoch 80/100\n",
      "20000/20000 [==============================] - 1s 54us/step - loss: 0.0044\n",
      "Epoch 81/100\n",
      "20000/20000 [==============================] - 1s 55us/step - loss: 0.0043\n",
      "Epoch 82/100\n",
      "20000/20000 [==============================] - 1s 53us/step - loss: 0.0043\n",
      "Epoch 83/100\n",
      "20000/20000 [==============================] - 1s 54us/step - loss: 0.0043\n",
      "Epoch 84/100\n",
      "20000/20000 [==============================] - 1s 54us/step - loss: 0.0042\n",
      "Epoch 85/100\n",
      "20000/20000 [==============================] - 1s 53us/step - loss: 0.0042\n",
      "Epoch 86/100\n",
      "20000/20000 [==============================] - 1s 54us/step - loss: 0.0042\n",
      "Epoch 87/100\n",
      "20000/20000 [==============================] - 1s 55us/step - loss: 0.0041\n",
      "Epoch 88/100\n",
      "20000/20000 [==============================] - 1s 54us/step - loss: 0.0041\n",
      "Epoch 89/100\n",
      "20000/20000 [==============================] - 1s 55us/step - loss: 0.0041\n",
      "Epoch 90/100\n",
      "20000/20000 [==============================] - 1s 54us/step - loss: 0.0041\n",
      "Epoch 91/100\n",
      "20000/20000 [==============================] - 1s 57us/step - loss: 0.0040\n",
      "Epoch 92/100\n",
      "20000/20000 [==============================] - 1s 53us/step - loss: 0.0040\n",
      "Epoch 93/100\n",
      "20000/20000 [==============================] - 1s 54us/step - loss: 0.0040\n",
      "Epoch 94/100\n",
      "20000/20000 [==============================] - 1s 53us/step - loss: 0.0039\n",
      "Epoch 95/100\n",
      "20000/20000 [==============================] - 1s 54us/step - loss: 0.0039\n",
      "Epoch 96/100\n",
      "20000/20000 [==============================] - 1s 54us/step - loss: 0.0038\n",
      "Epoch 97/100\n",
      "20000/20000 [==============================] - 1s 54us/step - loss: 0.0039\n",
      "Epoch 98/100\n",
      "20000/20000 [==============================] - 1s 54us/step - loss: 0.0038\n",
      "Epoch 99/100\n",
      "20000/20000 [==============================] - 1s 55us/step - loss: 0.0038\n",
      "Epoch 100/100\n",
      "20000/20000 [==============================] - 1s 55us/step - loss: 0.0038\n"
     ]
    },
    {
     "data": {
      "text/plain": [
       "<keras.callbacks.History at 0x250d34b7710>"
      ]
     },
     "execution_count": 95,
     "metadata": {},
     "output_type": "execute_result"
    }
   ],
   "source": [
    "autoEnc.fit(coinFlips, coinFlips, epochs=100, batch_size=50,verbose=1)"
   ]
  },
  {
   "cell_type": "code",
   "execution_count": 97,
   "metadata": {},
   "outputs": [
    {
     "name": "stdout",
     "output_type": "stream",
     "text": [
      "[[1 0 1 1 0 1 1 1 0 0]]\n"
     ]
    },
    {
     "data": {
      "text/plain": [
       "array([[9.9999583e-01, 3.5516128e-05, 1.0000000e+00, 9.9999988e-01,\n",
       "        2.4952394e-08, 9.9998283e-01, 9.9999678e-01, 9.9989140e-01,\n",
       "        5.4280762e-09, 1.0010389e-05]], dtype=float32)"
      ]
     },
     "execution_count": 97,
     "metadata": {},
     "output_type": "execute_result"
    }
   ],
   "source": [
    "print(coinFlips[1:2])\n",
    "autoEnc.predict(coinFlips[1:2])"
   ]
  },
  {
   "cell_type": "code",
   "execution_count": 80,
   "metadata": {},
   "outputs": [
    {
     "data": {
      "text/plain": [
       "array([[1, 1, 1, 1, 1, 1, 0, 1, 1, 1]])"
      ]
     },
     "execution_count": 80,
     "metadata": {},
     "output_type": "execute_result"
    }
   ],
   "source": [
    "coinFlips = np.random.binomial(1,.5,(20000,10))"
   ]
  },
  {
   "cell_type": "code",
   "execution_count": null,
   "metadata": {},
   "outputs": [],
   "source": []
  }
 ],
 "metadata": {
  "kernelspec": {
   "display_name": "Python 3",
   "language": "python",
   "name": "python3"
  },
  "language_info": {
   "codemirror_mode": {
    "name": "ipython",
    "version": 3
   },
   "file_extension": ".py",
   "mimetype": "text/x-python",
   "name": "python",
   "nbconvert_exporter": "python",
   "pygments_lexer": "ipython3",
   "version": "3.6.2"
  }
 },
 "nbformat": 4,
 "nbformat_minor": 2
}
