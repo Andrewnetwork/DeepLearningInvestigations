{
 "cells": [
  {
   "cell_type": "markdown",
   "metadata": {
    "_cell_guid": "08d2c5da-7cfa-4159-9a6a-dedbc12df63d",
    "_uuid": "d10a159e6f453af360736473257bc33ffe2fca28"
   },
   "source": [
    "$$\n",
    "\\huge\\text{Modeling Online Toxicity with LSTMs}\\\\\n",
    "\\large\\text{An interactive lab}\\\\\n",
    "\\text{Andrew Riberio @ https://github.com/Andrewnetwork}\n",
    "$$\n",
    "[ Skill Level : Beginner ] [ Interactive ]\n",
    "\n",
    "Welcome to this interactive laboratory for exploring the application of LSTM's to modeling toxicity in online dialog. Given the interactive componennts, you will be able to effortlessly play with various model parameters, hyperparameters, and visualize results in an effort to understand the model. I also include a section at the end which deals with outputting your results to a submission format and how to submit those results.  \n",
    "\n",
    "Outline\n",
    "\n",
    "1. Libraries and Environment Setup\n",
    "2. Preprocessing \n",
    "3. Modeling \n",
    "4. Visualizing and Interpreting Results\n",
    "\n",
    "Resources and Sources \n",
    "* https://www.kaggle.com/sbongo/for-beginners-tackling-toxic-using-keras\n",
    "* http://www.deeplearningbook.org/contents/rnn.html\n",
    "\n",
    "**NOTE**: In order for the interactive componnents of this kernel to function, you must either fork this kernel or download it to your local machine which has the required environment and dependencies. The simplest method is to fork the kernel here on kaggle. "
   ]
  },
  {
   "cell_type": "markdown",
   "metadata": {
    "_cell_guid": "13c3d987-96da-4490-a68c-fe02df960789",
    "_uuid": "28b620d44b79cf82c9c647787dc611b559d6e206"
   },
   "source": [
    "**$\\large\\text{1. Libraries and Environment Setup}$**"
   ]
  },
  {
   "cell_type": "code",
   "execution_count": 1,
   "metadata": {
    "_cell_guid": "e7ed960e-487b-43a4-832e-039a145a051a",
    "_uuid": "af2dd8674eaa1ac4902be9b503b602a072853c87"
   },
   "outputs": [
    {
     "name": "stderr",
     "output_type": "stream",
     "text": [
      "C:\\Users\\Andre\\Anaconda3\\envs\\GreatEnv\\lib\\site-packages\\h5py\\__init__.py:36: FutureWarning: Conversion of the second argument of issubdtype from `float` to `np.floating` is deprecated. In future, it will be treated as `np.float64 == np.dtype(float).type`.\n",
      "  from ._conv import register_converters as _register_converters\n",
      "Using TensorFlow backend.\n"
     ]
    }
   ],
   "source": [
    "import sys, os, re, csv, codecs\n",
    "import numpy as np \n",
    "import pandas as pd\n",
    "\n",
    "import tensorflow as tf\n",
    "\n",
    "from keras.preprocessing.text import Tokenizer\n",
    "from keras.preprocessing.sequence import pad_sequences\n",
    "from keras.layers import Dense, Input, LSTM, Embedding, Dropout, Activation\n",
    "from keras.layers import Bidirectional, GlobalMaxPool1D\n",
    "from keras.models import Model\n",
    "from keras import initializers, regularizers, constraints, optimizers, layers\n",
    "from keras.models import load_model\n",
    "from keras import backend as K\n",
    "\n",
    "from ipywidgets import interact,interact_manual\n",
    "from IPython.display import display\n",
    "\n",
    "import matplotlib.pyplot as plt\n",
    "%matplotlib inline"
   ]
  },
  {
   "cell_type": "code",
   "execution_count": 2,
   "metadata": {},
   "outputs": [],
   "source": [
    "sess = tf.Session(config=tf.ConfigProto(allow_soft_placement=True,log_device_placement=True,device_count = {'CPU' : 1, 'GPU' : 1}))\n",
    "K.set_session(sess)"
   ]
  },
  {
   "cell_type": "markdown",
   "metadata": {
    "_cell_guid": "8688a93d-b687-4e61-801d-d7b8df0eb985",
    "_uuid": "557fd8aa0476065d1a4fb5394fe3b8b6c83acdfc"
   },
   "source": [
    "$\\large\\text{2. Preprocessing }$"
   ]
  },
  {
   "cell_type": "markdown",
   "metadata": {
    "_cell_guid": "3bc07324-34ad-44e9-adee-95506283fbc7",
    "_uuid": "edbacd93566b632779d746139a93811459729832"
   },
   "source": [
    "Load our training and test data using pandas into dataframe variables amicably named. \n",
    "\n",
    "*Note:* If you are using this kernel as a fork on kaggle, you will not need to change the training and test paths. If you have a local version of this kernel, you must download the training data and change the paths below to your local copy of the data. "
   ]
  },
  {
   "cell_type": "code",
   "execution_count": 3,
   "metadata": {
    "_cell_guid": "838b6f23-515b-43ee-9dc2-d78d3926a983",
    "_uuid": "a8398d543217375e5fc613b8938dbc68237f683b",
    "collapsed": true
   },
   "outputs": [],
   "source": [
    "train = pd.read_csv('./data/train.csv')\n",
    "test = pd.read_csv('./data/test.csv')"
   ]
  },
  {
   "cell_type": "markdown",
   "metadata": {
    "_cell_guid": "7c55fdba-8f4f-4600-89b2-294225a5dc45",
    "_uuid": "f19d1ffb2f240040ef5b6cc0b9fcaed0fafa902f"
   },
   "source": [
    "Basic data information."
   ]
  },
  {
   "cell_type": "code",
   "execution_count": 4,
   "metadata": {
    "_cell_guid": "db257b69-2dc9-4ea2-a123-0bada0413b04",
    "_uuid": "3c7fbf442414841934cb5aef64ecffe06783fa94",
    "collapsed": true
   },
   "outputs": [
    {
     "name": "stdout",
     "output_type": "stream",
     "text": [
      "Shape of the training data: (159571, 8).\n",
      "Shape of the test data: (153164, 2).\n"
     ]
    },
    {
     "data": {
      "text/html": [
       "<div>\n",
       "<style scoped>\n",
       "    .dataframe tbody tr th:only-of-type {\n",
       "        vertical-align: middle;\n",
       "    }\n",
       "\n",
       "    .dataframe tbody tr th {\n",
       "        vertical-align: top;\n",
       "    }\n",
       "\n",
       "    .dataframe thead th {\n",
       "        text-align: right;\n",
       "    }\n",
       "</style>\n",
       "<table border=\"1\" class=\"dataframe\">\n",
       "  <thead>\n",
       "    <tr style=\"text-align: right;\">\n",
       "      <th></th>\n",
       "      <th>id</th>\n",
       "      <th>comment_text</th>\n",
       "      <th>toxic</th>\n",
       "      <th>severe_toxic</th>\n",
       "      <th>obscene</th>\n",
       "      <th>threat</th>\n",
       "      <th>insult</th>\n",
       "      <th>identity_hate</th>\n",
       "    </tr>\n",
       "  </thead>\n",
       "  <tbody>\n",
       "    <tr>\n",
       "      <th>0</th>\n",
       "      <td>0000997932d777bf</td>\n",
       "      <td>Explanation\\nWhy the edits made under my usern...</td>\n",
       "      <td>0</td>\n",
       "      <td>0</td>\n",
       "      <td>0</td>\n",
       "      <td>0</td>\n",
       "      <td>0</td>\n",
       "      <td>0</td>\n",
       "    </tr>\n",
       "    <tr>\n",
       "      <th>1</th>\n",
       "      <td>000103f0d9cfb60f</td>\n",
       "      <td>D'aww! He matches this background colour I'm s...</td>\n",
       "      <td>0</td>\n",
       "      <td>0</td>\n",
       "      <td>0</td>\n",
       "      <td>0</td>\n",
       "      <td>0</td>\n",
       "      <td>0</td>\n",
       "    </tr>\n",
       "    <tr>\n",
       "      <th>2</th>\n",
       "      <td>000113f07ec002fd</td>\n",
       "      <td>Hey man, I'm really not trying to edit war. It...</td>\n",
       "      <td>0</td>\n",
       "      <td>0</td>\n",
       "      <td>0</td>\n",
       "      <td>0</td>\n",
       "      <td>0</td>\n",
       "      <td>0</td>\n",
       "    </tr>\n",
       "    <tr>\n",
       "      <th>3</th>\n",
       "      <td>0001b41b1c6bb37e</td>\n",
       "      <td>\"\\nMore\\nI can't make any real suggestions on ...</td>\n",
       "      <td>0</td>\n",
       "      <td>0</td>\n",
       "      <td>0</td>\n",
       "      <td>0</td>\n",
       "      <td>0</td>\n",
       "      <td>0</td>\n",
       "    </tr>\n",
       "    <tr>\n",
       "      <th>4</th>\n",
       "      <td>0001d958c54c6e35</td>\n",
       "      <td>You, sir, are my hero. Any chance you remember...</td>\n",
       "      <td>0</td>\n",
       "      <td>0</td>\n",
       "      <td>0</td>\n",
       "      <td>0</td>\n",
       "      <td>0</td>\n",
       "      <td>0</td>\n",
       "    </tr>\n",
       "  </tbody>\n",
       "</table>\n",
       "</div>"
      ],
      "text/plain": [
       "                 id                                       comment_text  toxic  \\\n",
       "0  0000997932d777bf  Explanation\\nWhy the edits made under my usern...      0   \n",
       "1  000103f0d9cfb60f  D'aww! He matches this background colour I'm s...      0   \n",
       "2  000113f07ec002fd  Hey man, I'm really not trying to edit war. It...      0   \n",
       "3  0001b41b1c6bb37e  \"\\nMore\\nI can't make any real suggestions on ...      0   \n",
       "4  0001d958c54c6e35  You, sir, are my hero. Any chance you remember...      0   \n",
       "\n",
       "   severe_toxic  obscene  threat  insult  identity_hate  \n",
       "0             0        0       0       0              0  \n",
       "1             0        0       0       0              0  \n",
       "2             0        0       0       0              0  \n",
       "3             0        0       0       0              0  \n",
       "4             0        0       0       0              0  "
      ]
     },
     "execution_count": 4,
     "metadata": {},
     "output_type": "execute_result"
    }
   ],
   "source": [
    "print(\"Shape of the training data: {0}.\".format(train.shape) )\n",
    "print(\"Shape of the test data: {0}.\".format(test.shape))\n",
    "\n",
    "# View some of the training data. \n",
    "train.head()"
   ]
  },
  {
   "cell_type": "markdown",
   "metadata": {
    "_cell_guid": "1256ded2-68ea-41bc-9e0f-d889772dfd41",
    "_uuid": "aecd38fed13d580b0095af97b368245385dbec46"
   },
   "source": [
    "Interactive data visualization"
   ]
  },
  {
   "cell_type": "code",
   "execution_count": 5,
   "metadata": {
    "_cell_guid": "a492730f-03df-43a7-80e1-9f67f7588d39",
    "_uuid": "235aa14a94b225b466fe5fe63d15e0d9eaac6d2e",
    "collapsed": true
   },
   "outputs": [],
   "source": [
    "# Cashed filter computations for the visualization below. \n",
    "cashedFilters = {}"
   ]
  },
  {
   "cell_type": "code",
   "execution_count": 6,
   "metadata": {
    "_cell_guid": "8c2244e5-20da-4888-8bdc-9ad7b8e85f8e",
    "_uuid": "f29721b9ae4e51c364bf629f5adbc591ec8ae73e",
    "collapsed": true
   },
   "outputs": [
    {
     "data": {
      "application/vnd.jupyter.widget-view+json": {
       "model_id": "8ff150f082d343bd9cc0d8745624cd3e",
       "version_major": 2,
       "version_minor": 0
      },
      "text/html": [
       "<p>Failed to display Jupyter Widget of type <code>interactive</code>.</p>\n",
       "<p>\n",
       "  If you're reading this message in the Jupyter Notebook or JupyterLab Notebook, it may mean\n",
       "  that the widgets JavaScript is still loading. If this message persists, it\n",
       "  likely means that the widgets JavaScript library is either not installed or\n",
       "  not enabled. See the <a href=\"https://ipywidgets.readthedocs.io/en/stable/user_install.html\">Jupyter\n",
       "  Widgets Documentation</a> for setup instructions.\n",
       "</p>\n",
       "<p>\n",
       "  If you're reading this message in another frontend (for example, a static\n",
       "  rendering on GitHub or <a href=\"https://nbviewer.jupyter.org/\">NBViewer</a>),\n",
       "  it may mean that your frontend doesn't currently support widgets.\n",
       "</p>\n"
      ],
      "text/plain": [
       "interactive(children=(Checkbox(value=False, description='toxic'), Checkbox(value=False, description='severeToxic'), Checkbox(value=False, description='obscene'), Checkbox(value=False, description='threat'), Checkbox(value=False, description='insult'), Checkbox(value=False, description='identHate'), IntSlider(value=0, description='idx'), Output()), _dom_classes=('widget-interact',))"
      ]
     },
     "metadata": {},
     "output_type": "display_data"
    },
    {
     "data": {
      "text/plain": [
       "<function __main__.categoryVis>"
      ]
     },
     "execution_count": 6,
     "metadata": {},
     "output_type": "execute_result"
    }
   ],
   "source": [
    "# An interactive widget for exploring the data. \n",
    "def visRow(row):\n",
    "    print( row[\"comment_text\"] )\n",
    "    print (\"{0} - Toxic( {1} ) - Severe Toxic ( {2} ) - Obscene( {3} ) - Threat ( {4} ) - Insult ( {5} ) - Identity Hate ( {6} )\"\n",
    "           .format(row[\"id\"],row[\"toxic\"],row[\"severe_toxic\"],\n",
    "                   row[\"obscene\"],row[\"threat\"],row[\"insult\"],row[\"identity_hate\"]))\n",
    "    \n",
    "def categoryVis(toxic,severeToxic, obscene, threat, insult, identHate,idx=0):\n",
    "    try:\n",
    "        visRow(cashedFilters[toxic,severeToxic, obscene, threat, insult, identHate].iloc[idx])\n",
    "        \n",
    "    except KeyError:\n",
    "        print(\"Computing filter...\")\n",
    "        filterRes = train[train.apply(lambda x: x[\"toxic\"] == toxic and x[\"severe_toxic\"] == severeToxic and x[\"obscene\"] == obscene \n",
    "                                  and x[\"threat\"] == threat and x[\"insult\"] == insult and x[\"identity_hate\"] == identHate , axis=1)]\n",
    "        cashedFilters[toxic,severeToxic, obscene, threat, insult, identHate] =  filterRes\n",
    "        print(\"Done.\\n---------\")\n",
    "        \n",
    "        visRow(filterRes.iloc[idx])\n",
    "    \n",
    "interact(categoryVis,toxic=False,severeToxic=False, obscene=False, threat=False, insult=False, identHate=False,idx=(0,100))"
   ]
  },
  {
   "cell_type": "markdown",
   "metadata": {
    "_cell_guid": "49635851-a048-4531-a406-1d6a9467d13a",
    "_uuid": "5d735a9e914c1ac335cd6fda90ff0232880c9316"
   },
   "source": [
    "Split training data into data and label vectors. "
   ]
  },
  {
   "cell_type": "code",
   "execution_count": 7,
   "metadata": {
    "_cell_guid": "b6bbfbae-13be-437e-aed3-387d2b81c858",
    "_uuid": "161178fa493b42cb490c46c95b24b4fa6e9a74ac",
    "collapsed": true
   },
   "outputs": [],
   "source": [
    "list_classes = [\"toxic\", \"severe_toxic\", \"obscene\", \"threat\", \"insult\", \"identity_hate\"]\n",
    "\n",
    "y_train = train[list_classes].values\n",
    "list_sentences_train = train[\"comment_text\"]\n",
    "\n",
    "list_sentences_test = test[\"comment_text\"]"
   ]
  },
  {
   "cell_type": "markdown",
   "metadata": {
    "_cell_guid": "5415cd73-f98a-457d-9145-96df8dd52b13",
    "_uuid": "37a7c9cd4861d60c49b00175cecee5e9348d84b7"
   },
   "source": [
    "Tokenize the words. "
   ]
  },
  {
   "cell_type": "code",
   "execution_count": 8,
   "metadata": {
    "_cell_guid": "5f108649-c5bf-4274-b3cd-21ee01d205b2",
    "_uuid": "14beb2fdbf899d9dc0a60419c33a0b67a0efaa40",
    "collapsed": true
   },
   "outputs": [],
   "source": [
    "max_features = 20000\n",
    "tokenizer = Tokenizer(num_words=max_features)\n",
    "tokenizer.fit_on_texts(list(list_sentences_train))\n",
    "list_tokenized_train = tokenizer.texts_to_sequences(list_sentences_train)\n",
    "list_tokenized_test = tokenizer.texts_to_sequences(list_sentences_test)"
   ]
  },
  {
   "cell_type": "markdown",
   "metadata": {
    "_cell_guid": "9e5dd3dd-1897-49a0-9ab2-efcca3c7dffc",
    "_uuid": "3f6dc2b2cc367de06c17b64f2557565422457e9a"
   },
   "source": [
    "The following shows the result of the tokenizing process. Our text comments are now sequences of token ids."
   ]
  },
  {
   "cell_type": "code",
   "execution_count": 9,
   "metadata": {
    "_cell_guid": "27bbf2ce-4e6f-4e77-b285-953ab8963a55",
    "_uuid": "9cdd492417501a78a9b4067415460e5fa89bef47",
    "collapsed": true
   },
   "outputs": [
    {
     "name": "stdout",
     "output_type": "stream",
     "text": [
      "[[688, 75, 1, 126, 130, 177, 29, 672, 4511, 12052, 1116, 86, 331, 51, 2278, 11448, 50, 6864, 15, 60, 2756, 148, 7, 2937, 34, 117, 1221, 15190, 2825, 4, 45, 59, 244, 1, 365, 31, 1, 38, 27, 143, 73, 3462, 89, 3085, 4583, 2273, 985]]\n"
     ]
    }
   ],
   "source": [
    "print(list_tokenized_train[:1])"
   ]
  },
  {
   "cell_type": "markdown",
   "metadata": {
    "_cell_guid": "e71695b7-5998-4f0f-82cc-cc72e6ffa1a4",
    "_uuid": "4fc13cb1e6a9623c16f59f3166fa2bdc45984d1c"
   },
   "source": [
    "Padd our sequences so we can have a fixed training input size. "
   ]
  },
  {
   "cell_type": "code",
   "execution_count": 10,
   "metadata": {
    "_cell_guid": "c2311d49-2988-4f9e-ab27-d0f6e5d3bc54",
    "_uuid": "72561aa8a8f9c1cf52d65ea40342e8b7a12a9a68",
    "collapsed": true
   },
   "outputs": [],
   "source": [
    "maxlen = 200\n",
    "X_t = pad_sequences(list_tokenized_train, maxlen=maxlen)\n",
    "X_te = pad_sequences(list_tokenized_test, maxlen=maxlen)"
   ]
  },
  {
   "cell_type": "code",
   "execution_count": 11,
   "metadata": {
    "_cell_guid": "0fcf7b92-5fe0-431e-821f-1ca6c7993bdf",
    "_uuid": "5e3b8cfb90008785f5a36a85b8dabc7138eb76bc",
    "collapsed": true
   },
   "outputs": [
    {
     "data": {
      "image/png": "[encoded data removed]",
      "text/plain": [
       "<matplotlib.figure.Figure at 0x1fbdbc45b38>"
      ]
     },
     "metadata": {},
     "output_type": "display_data"
    }
   ],
   "source": [
    "totalNumWords = [len(one_comment) for one_comment in list_tokenized_train]\n",
    "plt.hist(totalNumWords,bins = np.arange(0,410,10))\n",
    "plt.show()"
   ]
  },
  {
   "cell_type": "markdown",
   "metadata": {
    "_cell_guid": "1091da02-67bd-42bf-a67a-fcaee7375e37",
    "_uuid": "eef31d6b11dadb62cf6eacdfacd5cb800ed8476b"
   },
   "source": [
    "$\\large\\text{3. Modeling }$"
   ]
  },
  {
   "cell_type": "code",
   "execution_count": 12,
   "metadata": {
    "_cell_guid": "970b9a5d-2204-45e7-84cb-5180e915df95",
    "_uuid": "4e4d94f8e9c32875dc0b99e84293e2975443219c",
    "collapsed": true
   },
   "outputs": [],
   "source": [
    "embed_size = 128\n",
    "\n",
    "inp = Input(shape=(maxlen, )) #maxlen=200 as defined earlier\n",
    "x = Embedding(max_features, embed_size)(inp)\n",
    "x = LSTM(60, return_sequences=True,name='lstm_layer')(x)\n",
    "x = GlobalMaxPool1D()(x)\n",
    "x = Dropout(0.1)(x)\n",
    "x = Dense(50, activation=\"relu\")(x)\n",
    "x = Dropout(0.1)(x)\n",
    "x = Dense(6, activation=\"sigmoid\")(x)\n",
    "\n",
    "model = Model(inputs=inp, outputs=x)\n",
    "model.compile(loss='binary_crossentropy',\n",
    "                  optimizer='adam',\n",
    "                  metrics=['accuracy'])"
   ]
  },
  {
   "cell_type": "code",
   "execution_count": 13,
   "metadata": {
    "_cell_guid": "556dbd0a-eec2-4562-aa31-6d42e145f8c4",
    "_uuid": "13325b973ec7c67d258b6915ce5034cbc4b15247",
    "collapsed": true
   },
   "outputs": [
    {
     "name": "stdout",
     "output_type": "stream",
     "text": [
      "Train on 143613 samples, validate on 15958 samples\n",
      "Epoch 1/20\n",
      "143613/143613 [==============================] - 55s 384us/step - loss: 0.2071 - acc: 0.9579 - val_loss: 0.1407 - val_acc: 0.9627\n",
      "Epoch 2/20\n",
      "143613/143613 [==============================] - 44s 310us/step - loss: 0.1340 - acc: 0.9634 - val_loss: 0.1115 - val_acc: 0.9630\n",
      "Epoch 3/20\n",
      "143613/143613 [==============================] - 44s 310us/step - loss: 0.0756 - acc: 0.9739 - val_loss: 0.0563 - val_acc: 0.9803\n",
      "Epoch 4/20\n",
      "143613/143613 [==============================] - 44s 310us/step - loss: 0.0551 - acc: 0.9804 - val_loss: 0.0527 - val_acc: 0.9812\n",
      "Epoch 5/20\n",
      "143613/143613 [==============================] - 45s 311us/step - loss: 0.0492 - acc: 0.9820 - val_loss: 0.0523 - val_acc: 0.9814\n",
      "Epoch 6/20\n",
      "143613/143613 [==============================] - 45s 313us/step - loss: 0.0455 - acc: 0.9833 - val_loss: 0.0534 - val_acc: 0.9816\n",
      "Epoch 7/20\n",
      "143613/143613 [==============================] - 45s 311us/step - loss: 0.0431 - acc: 0.9840 - val_loss: 0.0523 - val_acc: 0.9814\n",
      "Epoch 8/20\n",
      "143613/143613 [==============================] - 45s 310us/step - loss: 0.0408 - acc: 0.9847 - val_loss: 0.0541 - val_acc: 0.9810\n",
      "Epoch 9/20\n",
      "143613/143613 [==============================] - 45s 310us/step - loss: 0.0388 - acc: 0.9854 - val_loss: 0.0542 - val_acc: 0.9811\n",
      "Epoch 10/20\n",
      "143613/143613 [==============================] - 45s 311us/step - loss: 0.0371 - acc: 0.9861 - val_loss: 0.0559 - val_acc: 0.9811\n",
      "Epoch 11/20\n",
      "143613/143613 [==============================] - 45s 310us/step - loss: 0.0357 - acc: 0.9865 - val_loss: 0.0562 - val_acc: 0.9806\n",
      "Epoch 12/20\n",
      "143613/143613 [==============================] - 45s 311us/step - loss: 0.0345 - acc: 0.9870 - val_loss: 0.0599 - val_acc: 0.9808\n",
      "Epoch 13/20\n",
      "143613/143613 [==============================] - 45s 310us/step - loss: 0.0332 - acc: 0.9875 - val_loss: 0.0609 - val_acc: 0.9805\n",
      "Epoch 14/20\n",
      "143613/143613 [==============================] - 45s 311us/step - loss: 0.0324 - acc: 0.9877 - val_loss: 0.0614 - val_acc: 0.9803\n",
      "Epoch 15/20\n",
      "143613/143613 [==============================] - 45s 311us/step - loss: 0.0314 - acc: 0.9880 - val_loss: 0.0626 - val_acc: 0.9807\n",
      "Epoch 16/20\n",
      "143613/143613 [==============================] - 46s 319us/step - loss: 0.0305 - acc: 0.9883 - val_loss: 0.0654 - val_acc: 0.9804\n",
      "Epoch 17/20\n",
      "143613/143613 [==============================] - 45s 316us/step - loss: 0.0296 - acc: 0.9886 - val_loss: 0.0657 - val_acc: 0.9807\n",
      "Epoch 18/20\n",
      "143613/143613 [==============================] - 45s 315us/step - loss: 0.0287 - acc: 0.9891 - val_loss: 0.0653 - val_acc: 0.9797\n",
      "Epoch 19/20\n",
      "143613/143613 [==============================] - 45s 316us/step - loss: 0.0280 - acc: 0.9893 - val_loss: 0.0690 - val_acc: 0.9800\n",
      "Epoch 20/20\n",
      "143613/143613 [==============================] - 45s 316us/step - loss: 0.0270 - acc: 0.9895 - val_loss: 0.0697 - val_acc: 0.9797\n"
     ]
    },
    {
     "data": {
      "text/plain": [
       "<keras.callbacks.History at 0x1fa428dcc88>"
      ]
     },
     "execution_count": 13,
     "metadata": {},
     "output_type": "execute_result"
    }
   ],
   "source": [
    "batch_size = 1000\n",
    "epochs = 20\n",
    "model.fit(X_t,y_train, batch_size=batch_size, epochs=epochs, validation_split=0.1)"
   ]
  },
  {
   "cell_type": "code",
   "execution_count": 14,
   "metadata": {
    "_cell_guid": "51cd2cbf-7721-471b-aac6-fb7b2f082424",
    "_uuid": "8d995bb1a6b101447a79a279be045e6fe1f67541",
    "collapsed": true
   },
   "outputs": [],
   "source": [
    "model.save('./models/lstm_toxic_20_1000.h5')\n",
    "#model = load_model(\"./models/lstm_toxic.h5\")"
   ]
  },
  {
   "cell_type": "markdown",
   "metadata": {
    "_cell_guid": "c3f28a4f-97fc-4f5d-a63f-0a7dc3f7972e",
    "_uuid": "bf765a418a44f5292e525da13bb800a430bfb071"
   },
   "source": [
    "$\\large\\text{4. Visualizing and Interpreting Results }$"
   ]
  },
  {
   "cell_type": "code",
   "execution_count": 15,
   "metadata": {
    "_cell_guid": "7de9ce1f-c7f0-434d-9fc6-c32b1b96ad6b",
    "_uuid": "90a78f1e7545700f1ced5d8cf56874cecac5ba89"
   },
   "outputs": [
    {
     "data": {
      "application/vnd.jupyter.widget-view+json": {
       "model_id": "8833dad7f0bb4e28b2cef8c9cfa82002",
       "version_major": 2,
       "version_minor": 0
      },
      "text/html": [
       "<p>Failed to display Jupyter Widget of type <code>interactive</code>.</p>\n",
       "<p>\n",
       "  If you're reading this message in the Jupyter Notebook or JupyterLab Notebook, it may mean\n",
       "  that the widgets JavaScript is still loading. If this message persists, it\n",
       "  likely means that the widgets JavaScript library is either not installed or\n",
       "  not enabled. See the <a href=\"https://ipywidgets.readthedocs.io/en/stable/user_install.html\">Jupyter\n",
       "  Widgets Documentation</a> for setup instructions.\n",
       "</p>\n",
       "<p>\n",
       "  If you're reading this message in another frontend (for example, a static\n",
       "  rendering on GitHub or <a href=\"https://nbviewer.jupyter.org/\">NBViewer</a>),\n",
       "  it may mean that your frontend doesn't currently support widgets.\n",
       "</p>\n"
      ],
      "text/plain": [
       "interactive(children=(Text(value='Testing 1 2 3', description='text'), Output()), _dom_classes=('widget-interact',))"
      ]
     },
     "metadata": {},
     "output_type": "display_data"
    },
    {
     "data": {
      "text/plain": [
       "<function __main__.testModel>"
      ]
     },
     "execution_count": 15,
     "metadata": {},
     "output_type": "execute_result"
    }
   ],
   "source": [
    "def testModel(text):\n",
    "    textSeq = tokenizer.texts_to_sequences([text])\n",
    "    t = pad_sequences(textSeq, maxlen=maxlen)\n",
    "    prediction = model.predict(t)[0]\n",
    "    print(\"Toxic( {0:f} ) - Severe Toxic ( {1:f} ) - Obscene( {2:f} ) - Threat ( {3:f} ) - Insult ( {4:f} ) - Identity Hate ( {5:f} )\"\n",
    "          .format(prediction[0],prediction[1],prediction[2],prediction[3],prediction[3],prediction[4],prediction[5]))\n",
    "interact(testModel,text=\"Testing 1 2 3\")"
   ]
  },
  {
   "cell_type": "code",
   "execution_count": 16,
   "metadata": {},
   "outputs": [],
   "source": [
    "validationData = train.tail(15958)\n",
    "validationDataText = validationData[\"comment_text\"]\n",
    "validationTokens = tokenizer.texts_to_sequences(validationDataText)\n",
    "X_validation = pad_sequences(validationTokens, maxlen=maxlen)\n",
    "y_validation = validationData[list_classes].values\n",
    "validationPred = model.predict(X_validation)"
   ]
  },
  {
   "cell_type": "code",
   "execution_count": 17,
   "metadata": {},
   "outputs": [
    {
     "data": {
      "text/plain": [
       "array([0.53858185, 0.00062895, 0.11353013, 0.00247297, 0.23746552,\n",
       "       0.01172623], dtype=float32)"
      ]
     },
     "execution_count": 17,
     "metadata": {},
     "output_type": "execute_result"
    }
   ],
   "source": [
    "validationPred[2]"
   ]
  },
  {
   "cell_type": "code",
   "execution_count": 18,
   "metadata": {},
   "outputs": [
    {
     "data": {
      "text/html": [
       "<div>\n",
       "<style scoped>\n",
       "    .dataframe tbody tr th:only-of-type {\n",
       "        vertical-align: middle;\n",
       "    }\n",
       "\n",
       "    .dataframe tbody tr th {\n",
       "        vertical-align: top;\n",
       "    }\n",
       "\n",
       "    .dataframe thead th {\n",
       "        text-align: right;\n",
       "    }\n",
       "</style>\n",
       "<table border=\"1\" class=\"dataframe\">\n",
       "  <thead>\n",
       "    <tr style=\"text-align: right;\">\n",
       "      <th></th>\n",
       "      <th>id</th>\n",
       "      <th>comment_text</th>\n",
       "      <th>toxic</th>\n",
       "      <th>severe_toxic</th>\n",
       "      <th>obscene</th>\n",
       "      <th>threat</th>\n",
       "      <th>insult</th>\n",
       "      <th>identity_hate</th>\n",
       "    </tr>\n",
       "  </thead>\n",
       "  <tbody>\n",
       "    <tr>\n",
       "      <th>143613</th>\n",
       "      <td>001e50c9719a815a</td>\n",
       "      <td>Yes you did. And you admitted to doing it. See...</td>\n",
       "      <td>0</td>\n",
       "      <td>0</td>\n",
       "      <td>0</td>\n",
       "      <td>0</td>\n",
       "      <td>0</td>\n",
       "      <td>0</td>\n",
       "    </tr>\n",
       "    <tr>\n",
       "      <th>143614</th>\n",
       "      <td>00237e81e55e290e</td>\n",
       "      <td>\"\\n\\n Delete \\n\\nHey there, do you want  page ...</td>\n",
       "      <td>0</td>\n",
       "      <td>0</td>\n",
       "      <td>0</td>\n",
       "      <td>0</td>\n",
       "      <td>0</td>\n",
       "      <td>0</td>\n",
       "    </tr>\n",
       "    <tr>\n",
       "      <th>143615</th>\n",
       "      <td>0026b847c32d821b</td>\n",
       "      <td>I am so sorry for creating another account I f...</td>\n",
       "      <td>0</td>\n",
       "      <td>0</td>\n",
       "      <td>0</td>\n",
       "      <td>0</td>\n",
       "      <td>0</td>\n",
       "      <td>0</td>\n",
       "    </tr>\n",
       "    <tr>\n",
       "      <th>143616</th>\n",
       "      <td>002beab256a522d2</td>\n",
       "      <td>Gift Giving In The Laws of Manu \\n\\nThere is n...</td>\n",
       "      <td>0</td>\n",
       "      <td>0</td>\n",
       "      <td>0</td>\n",
       "      <td>0</td>\n",
       "      <td>0</td>\n",
       "      <td>0</td>\n",
       "    </tr>\n",
       "    <tr>\n",
       "      <th>143617</th>\n",
       "      <td>002eb973f922651e</td>\n",
       "      <td>Martens Deletion. \\n\\nHello, \\nYou might like ...</td>\n",
       "      <td>0</td>\n",
       "      <td>0</td>\n",
       "      <td>0</td>\n",
       "      <td>0</td>\n",
       "      <td>0</td>\n",
       "      <td>0</td>\n",
       "    </tr>\n",
       "  </tbody>\n",
       "</table>\n",
       "</div>"
      ],
      "text/plain": [
       "                      id                                       comment_text  \\\n",
       "143613  001e50c9719a815a  Yes you did. And you admitted to doing it. See...   \n",
       "143614  00237e81e55e290e  \"\\n\\n Delete \\n\\nHey there, do you want  page ...   \n",
       "143615  0026b847c32d821b  I am so sorry for creating another account I f...   \n",
       "143616  002beab256a522d2  Gift Giving In The Laws of Manu \\n\\nThere is n...   \n",
       "143617  002eb973f922651e  Martens Deletion. \\n\\nHello, \\nYou might like ...   \n",
       "\n",
       "        toxic  severe_toxic  obscene  threat  insult  identity_hate  \n",
       "143613      0             0        0       0       0              0  \n",
       "143614      0             0        0       0       0              0  \n",
       "143615      0             0        0       0       0              0  \n",
       "143616      0             0        0       0       0              0  \n",
       "143617      0             0        0       0       0              0  "
      ]
     },
     "execution_count": 18,
     "metadata": {},
     "output_type": "execute_result"
    }
   ],
   "source": [
    "validationData.head()"
   ]
  },
  {
   "cell_type": "code",
   "execution_count": 19,
   "metadata": {},
   "outputs": [
    {
     "data": {
      "text/plain": [
       "'I am so sorry for creating another account I feel like such an idiot right now. I will definitely take six months off to think about what I have done and promise never to create any more accounts ever again and hope to come back (3, Febuary 2011) and sort this out and hope to get my original account back.'"
      ]
     },
     "execution_count": 19,
     "metadata": {},
     "output_type": "execute_result"
    }
   ],
   "source": [
    "validationData.iloc[2][\"comment_text\"]"
   ]
  },
  {
   "cell_type": "code",
   "execution_count": 20,
   "metadata": {
    "_cell_guid": "b268a783-e12e-4cf7-93b3-624443f6f344",
    "_uuid": "7fdaf7718089f8a0de9bf7791a6af880e8b0b711",
    "collapsed": true
   },
   "outputs": [],
   "source": [
    "testPred = model.predict(X_te)"
   ]
  },
  {
   "cell_type": "code",
   "execution_count": 21,
   "metadata": {
    "_cell_guid": "516f92e9-4bbd-4f25-964d-71a0dee4ebdb",
    "_uuid": "29e0a0fe1463ab1f724ee393bf47cfe7050e093f",
    "collapsed": true
   },
   "outputs": [],
   "source": [
    "[\"toxic\", \"severe_toxic\", \"obscene\", \"threat\", \"insult\", \"identity_hate\"]\n",
    "data_to_submit = pd.DataFrame.from_items([\n",
    "    ('id',test[\"id\"]),\n",
    "    ('toxic',testPred[:,0]),\n",
    "    ('severe_toxic',testPred[:,1]),\n",
    "    ('obscene',testPred[:,2]),\n",
    "    ('threat',testPred[:,3]),\n",
    "    ('insult',testPred[:,4]),\n",
    "    ('identity_hate',testPred[:,5])\n",
    "])"
   ]
  },
  {
   "cell_type": "code",
   "execution_count": 22,
   "metadata": {
    "_cell_guid": "2ac09c6d-73c8-4ef2-b9d8-1fcea35d2ff9",
    "_uuid": "6ace399ec88b34b4e56ad9c3728df22e9e9e249b",
    "collapsed": true
   },
   "outputs": [],
   "source": [
    "data_to_submit.to_csv('csv_to_submit.csv', index = False)"
   ]
  },
  {
   "cell_type": "code",
   "execution_count": 23,
   "metadata": {
    "_cell_guid": "32c4062c-1a69-46f8-bcca-33d5b7b4120f",
    "_uuid": "ffc0f3e2258a5ffb78ca1d5a1f7a8ffcc593cd51",
    "collapsed": true
   },
   "outputs": [
    {
     "data": {
      "text/html": [
       "<div>\n",
       "<style scoped>\n",
       "    .dataframe tbody tr th:only-of-type {\n",
       "        vertical-align: middle;\n",
       "    }\n",
       "\n",
       "    .dataframe tbody tr th {\n",
       "        vertical-align: top;\n",
       "    }\n",
       "\n",
       "    .dataframe thead th {\n",
       "        text-align: right;\n",
       "    }\n",
       "</style>\n",
       "<table border=\"1\" class=\"dataframe\">\n",
       "  <thead>\n",
       "    <tr style=\"text-align: right;\">\n",
       "      <th></th>\n",
       "      <th>id</th>\n",
       "      <th>toxic</th>\n",
       "      <th>severe_toxic</th>\n",
       "      <th>obscene</th>\n",
       "      <th>threat</th>\n",
       "      <th>insult</th>\n",
       "      <th>identity_hate</th>\n",
       "    </tr>\n",
       "  </thead>\n",
       "  <tbody>\n",
       "    <tr>\n",
       "      <th>0</th>\n",
       "      <td>00001cee341fdb12</td>\n",
       "      <td>0.998505</td>\n",
       "      <td>5.207277e-01</td>\n",
       "      <td>0.974970</td>\n",
       "      <td>0.110709</td>\n",
       "      <td>0.929253</td>\n",
       "      <td>0.231577</td>\n",
       "    </tr>\n",
       "    <tr>\n",
       "      <th>1</th>\n",
       "      <td>0000247867823ef7</td>\n",
       "      <td>0.001380</td>\n",
       "      <td>1.642784e-06</td>\n",
       "      <td>0.000087</td>\n",
       "      <td>0.000012</td>\n",
       "      <td>0.000092</td>\n",
       "      <td>0.000014</td>\n",
       "    </tr>\n",
       "    <tr>\n",
       "      <th>2</th>\n",
       "      <td>00013b17ad220c46</td>\n",
       "      <td>0.002070</td>\n",
       "      <td>6.699000e-06</td>\n",
       "      <td>0.000157</td>\n",
       "      <td>0.000033</td>\n",
       "      <td>0.000155</td>\n",
       "      <td>0.000032</td>\n",
       "    </tr>\n",
       "    <tr>\n",
       "      <th>3</th>\n",
       "      <td>00017563c3f7919a</td>\n",
       "      <td>0.000383</td>\n",
       "      <td>2.953618e-07</td>\n",
       "      <td>0.000030</td>\n",
       "      <td>0.000002</td>\n",
       "      <td>0.000023</td>\n",
       "      <td>0.000004</td>\n",
       "    </tr>\n",
       "    <tr>\n",
       "      <th>4</th>\n",
       "      <td>00017695ad8997eb</td>\n",
       "      <td>0.008138</td>\n",
       "      <td>4.067006e-05</td>\n",
       "      <td>0.000694</td>\n",
       "      <td>0.000178</td>\n",
       "      <td>0.000754</td>\n",
       "      <td>0.000198</td>\n",
       "    </tr>\n",
       "  </tbody>\n",
       "</table>\n",
       "</div>"
      ],
      "text/plain": [
       "                 id     toxic  severe_toxic   obscene    threat    insult  \\\n",
       "0  00001cee341fdb12  0.998505  5.207277e-01  0.974970  0.110709  0.929253   \n",
       "1  0000247867823ef7  0.001380  1.642784e-06  0.000087  0.000012  0.000092   \n",
       "2  00013b17ad220c46  0.002070  6.699000e-06  0.000157  0.000033  0.000155   \n",
       "3  00017563c3f7919a  0.000383  2.953618e-07  0.000030  0.000002  0.000023   \n",
       "4  00017695ad8997eb  0.008138  4.067006e-05  0.000694  0.000178  0.000754   \n",
       "\n",
       "   identity_hate  \n",
       "0       0.231577  \n",
       "1       0.000014  \n",
       "2       0.000032  \n",
       "3       0.000004  \n",
       "4       0.000198  "
      ]
     },
     "execution_count": 23,
     "metadata": {},
     "output_type": "execute_result"
    }
   ],
   "source": [
    "data_to_submit.head()"
   ]
  },
  {
   "cell_type": "code",
   "execution_count": 24,
   "metadata": {},
   "outputs": [],
   "source": [
    "#sess.close()"
   ]
  },
  {
   "cell_type": "code",
   "execution_count": null,
   "metadata": {},
   "outputs": [],
   "source": []
  }
 ],
 "metadata": {
  "kernelspec": {
   "display_name": "Python 3",
   "language": "python",
   "name": "python3"
  },
  "language_info": {
   "codemirror_mode": {
    "name": "ipython",
    "version": 3
   },
   "file_extension": ".py",
   "mimetype": "text/x-python",
   "name": "python",
   "nbconvert_exporter": "python",
   "pygments_lexer": "ipython3",
   "version": "3.6.2"
  }
 },
 "nbformat": 4,
 "nbformat_minor": 2
}
